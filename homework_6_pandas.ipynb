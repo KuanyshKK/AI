{
  "nbformat": 4,
  "nbformat_minor": 0,
  "metadata": {
    "colab": {
      "provenance": []
    },
    "kernelspec": {
      "name": "python3",
      "display_name": "Python 3"
    },
    "language_info": {
      "name": "python"
    }
  },
  "cells": [
    {
      "cell_type": "markdown",
      "source": [
        "# Исследовательский анализ данных (EDA) набора данных по прогнозированию диабета\n",
        "\n",
        "**Цель**: В этом задании вам предстоит использовать библиотеки Pandas, Matplotlib и Seaborn на Python для проведения исследовательского анализа данных набора данных по прогнозированию диабета. Данный набор данных содержит медицинские и демографические данные пациентов, а также информацию о наличии у них диабета (положительный или отрицательный статус).\n",
        "\n",
        "Для каждой из колонок в вашем наборе данных описаны следующие анализы:\n",
        "1. '`gender`': Это категориальная переменная, которая обозначает пол пациента. `Female` - женский пол, `Male` - мужской пол\n",
        "\n",
        "2. '`age`': Это числовая переменная, обозначающая возраст пациента.\n",
        "\n",
        "3. '`hypertension`': Это категориальная переменная, показывающая, есть ли у пациента гипертония (значение `1` если есть) или нет (значение `0` если нет).\n",
        "\n",
        "4. '`heart_disease`': Это категориальная переменная, обозначающая наличие (значение `1` если есть) или отсутствие (значение `0` если нет) сердечного заболевания у пациента.\n",
        "\n",
        "5. '`smoking_history`': Это категориальная переменная, обозначающая историю курения пациента. Вот как можно интерпретировать каждое из её значений:\n",
        "\n",
        "    * No Info: Информация о курении пациента отсутствует или не была собрана.\n",
        "\n",
        "    * Never: Пациент никогда не курил.\n",
        "\n",
        "    * Former: Пациент ранее курил, но в настоящее время бросил.\n",
        "\n",
        "    * Current: Пациент в настоящее время курит.\n",
        "\n",
        "    * Not Current: Пациент в настоящее время не курит, но в данных не указано, курил ли он ранее.\n",
        "\n",
        "    * Ever: Пациент когда-либо курил в прошлом, но не указано, продолжает ли он курить сейчас.\n",
        "\n",
        "6. '`bmi`': Это числовая переменная, обозначающая индекс массы тела (BMI) пациента.\n",
        "\n",
        "7. '`HbA1c_level`': Это числовая переменная, обозначающая уровень HbA1c (гликированного гемоглобина) в крови пациента.\n",
        "\n",
        "8. '`blood_glucose_level`': Это числовая переменная, обозначающая уровень глюкозы в крови пациента.\n",
        "\n",
        "9. '`diabetes`': Это категориальная переменная, обозначающая наличие (значение `1` если есть) или отсутствие (значение `0` если нет) диабета у пациента.\n",
        "\n",
        "# **Примечание** по сохранению файла с набором данных\n",
        "\n",
        "* Локально:\n",
        "\n",
        "    Если вы работаете локально, то убедитесь, что файл `diabetes_hw6_dataset.csv` находится в той же директории, что и ваш Jupyter notebook или Python скрипт. В противном случае, вам нужно будет указать полный путь к файлу при его загрузке.\n",
        "* Google Colab:\n",
        "    \n",
        "    Если вы используете Google Colab, вам потребуется загрузить файл с набором данных в ваш Google Drive и указать полный путь к файлу как было показано в примере на уроке 12.\n",
        "\n",
        "# **Примечание** о структуре вашего ноутбука:\n",
        "\n",
        "Помните, что вы не ограничены одной ячейкой кода для каждой подзадачи. Если вам удобнее разбить код решения одной подзадачи на несколько ячеек, смело делайте это.\n",
        "\n",
        "Например, вы можете выбрать отдельную ячейку для вычислений и еще одну ячейку для вывода результатов или визуализаций. Это может упростить чтение и отладку вашего кода.\n",
        "\n",
        "Основное - чтобы каждая из подзадач была четко выделена и идентифицируема. Для этого используйте текстовые ячейки для пояснения того, что делает каждая часть кода, и комментарии внутри ячеек кода, где это необходимо."
      ],
      "metadata": {
        "id": "EirWzhhJWble"
      }
    },
    {
      "cell_type": "markdown",
      "source": [
        "# Задание 1: Импорт необходимых библиотек\n",
        "\n",
        "Перед началом анализа вам необходимо импортировать необходимые библиотеки (`pandas`, `matplotlib.pyplot`, `seaborn`)."
      ],
      "metadata": {
        "id": "balz6hO6t9Jr"
      }
    },
    {
      "cell_type": "code",
      "source": [
        "# место для ответа\n",
        "import pandas as pd\n",
        "import matplotlib.pyplot as plt\n",
        "import seaborn as sns\n"
      ],
      "metadata": {
        "id": "IcGt-MTouLHu"
      },
      "execution_count": 1,
      "outputs": []
    },
    {
      "cell_type": "markdown",
      "source": [
        "# Задание 2: Загрузка набора данных\n",
        "\n",
        "Загрузите набор данных о диабете в переменную, используя `pandas`. Убедитесь, что ваш набор данных находится в правильном месте."
      ],
      "metadata": {
        "id": "oBLoDxNZumda"
      }
    },
    {
      "cell_type": "code",
      "source": [
        "# место для ответа\n",
        "dia_df = pd.read_csv('/content/AI/diabetes_hw6_dataset.csv')\n",
        "dia_df\n"
      ],
      "metadata": {
        "id": "gwwn6NtLu4ZQ",
        "outputId": "0adbcfc5-f5a3-421a-91d1-c82cb3b796a0",
        "colab": {
          "base_uri": "https://localhost:8080/",
          "height": 424
        }
      },
      "execution_count": 2,
      "outputs": [
        {
          "output_type": "execute_result",
          "data": {
            "text/plain": [
              "      gender   age  hypertension  heart_disease smoking_history    bmi  \\\n",
              "0     Female  16.0             0              0         No Info  15.43   \n",
              "1       Male   4.0             0              0           never  27.32   \n",
              "2       Male  62.0             0              0          former  26.60   \n",
              "3       Male  20.0             0              0         No Info  33.13   \n",
              "4       Male  70.0             0              0         No Info  27.32   \n",
              "...      ...   ...           ...            ...             ...    ...   \n",
              "1609  Female  60.0             0              1          former  26.63   \n",
              "1610  Female  44.0             0              1         current  34.35   \n",
              "1611  Female  41.0             0              0           never  30.80   \n",
              "1612  Female  71.0             1              0           never  62.80   \n",
              "1613    Male  80.0             0              0     not current  20.97   \n",
              "\n",
              "      HbA1c_level  blood_glucose_level  diabetes  \n",
              "0             6.5                  145         0  \n",
              "1             4.0                  130         0  \n",
              "2             3.5                  126         0  \n",
              "3             6.5                  200         0  \n",
              "4             5.0                  158         0  \n",
              "...           ...                  ...       ...  \n",
              "1609          7.5                  160         1  \n",
              "1610          6.6                  140         1  \n",
              "1611          6.1                  300         1  \n",
              "1612          8.2                  155         1  \n",
              "1613          9.0                  240         1  \n",
              "\n",
              "[1614 rows x 9 columns]"
            ],
            "text/html": [
              "\n",
              "  <div id=\"df-c977e3f6-80c4-4281-96f3-24c745889b6a\" class=\"colab-df-container\">\n",
              "    <div>\n",
              "<style scoped>\n",
              "    .dataframe tbody tr th:only-of-type {\n",
              "        vertical-align: middle;\n",
              "    }\n",
              "\n",
              "    .dataframe tbody tr th {\n",
              "        vertical-align: top;\n",
              "    }\n",
              "\n",
              "    .dataframe thead th {\n",
              "        text-align: right;\n",
              "    }\n",
              "</style>\n",
              "<table border=\"1\" class=\"dataframe\">\n",
              "  <thead>\n",
              "    <tr style=\"text-align: right;\">\n",
              "      <th></th>\n",
              "      <th>gender</th>\n",
              "      <th>age</th>\n",
              "      <th>hypertension</th>\n",
              "      <th>heart_disease</th>\n",
              "      <th>smoking_history</th>\n",
              "      <th>bmi</th>\n",
              "      <th>HbA1c_level</th>\n",
              "      <th>blood_glucose_level</th>\n",
              "      <th>diabetes</th>\n",
              "    </tr>\n",
              "  </thead>\n",
              "  <tbody>\n",
              "    <tr>\n",
              "      <th>0</th>\n",
              "      <td>Female</td>\n",
              "      <td>16.0</td>\n",
              "      <td>0</td>\n",
              "      <td>0</td>\n",
              "      <td>No Info</td>\n",
              "      <td>15.43</td>\n",
              "      <td>6.5</td>\n",
              "      <td>145</td>\n",
              "      <td>0</td>\n",
              "    </tr>\n",
              "    <tr>\n",
              "      <th>1</th>\n",
              "      <td>Male</td>\n",
              "      <td>4.0</td>\n",
              "      <td>0</td>\n",
              "      <td>0</td>\n",
              "      <td>never</td>\n",
              "      <td>27.32</td>\n",
              "      <td>4.0</td>\n",
              "      <td>130</td>\n",
              "      <td>0</td>\n",
              "    </tr>\n",
              "    <tr>\n",
              "      <th>2</th>\n",
              "      <td>Male</td>\n",
              "      <td>62.0</td>\n",
              "      <td>0</td>\n",
              "      <td>0</td>\n",
              "      <td>former</td>\n",
              "      <td>26.60</td>\n",
              "      <td>3.5</td>\n",
              "      <td>126</td>\n",
              "      <td>0</td>\n",
              "    </tr>\n",
              "    <tr>\n",
              "      <th>3</th>\n",
              "      <td>Male</td>\n",
              "      <td>20.0</td>\n",
              "      <td>0</td>\n",
              "      <td>0</td>\n",
              "      <td>No Info</td>\n",
              "      <td>33.13</td>\n",
              "      <td>6.5</td>\n",
              "      <td>200</td>\n",
              "      <td>0</td>\n",
              "    </tr>\n",
              "    <tr>\n",
              "      <th>4</th>\n",
              "      <td>Male</td>\n",
              "      <td>70.0</td>\n",
              "      <td>0</td>\n",
              "      <td>0</td>\n",
              "      <td>No Info</td>\n",
              "      <td>27.32</td>\n",
              "      <td>5.0</td>\n",
              "      <td>158</td>\n",
              "      <td>0</td>\n",
              "    </tr>\n",
              "    <tr>\n",
              "      <th>...</th>\n",
              "      <td>...</td>\n",
              "      <td>...</td>\n",
              "      <td>...</td>\n",
              "      <td>...</td>\n",
              "      <td>...</td>\n",
              "      <td>...</td>\n",
              "      <td>...</td>\n",
              "      <td>...</td>\n",
              "      <td>...</td>\n",
              "    </tr>\n",
              "    <tr>\n",
              "      <th>1609</th>\n",
              "      <td>Female</td>\n",
              "      <td>60.0</td>\n",
              "      <td>0</td>\n",
              "      <td>1</td>\n",
              "      <td>former</td>\n",
              "      <td>26.63</td>\n",
              "      <td>7.5</td>\n",
              "      <td>160</td>\n",
              "      <td>1</td>\n",
              "    </tr>\n",
              "    <tr>\n",
              "      <th>1610</th>\n",
              "      <td>Female</td>\n",
              "      <td>44.0</td>\n",
              "      <td>0</td>\n",
              "      <td>1</td>\n",
              "      <td>current</td>\n",
              "      <td>34.35</td>\n",
              "      <td>6.6</td>\n",
              "      <td>140</td>\n",
              "      <td>1</td>\n",
              "    </tr>\n",
              "    <tr>\n",
              "      <th>1611</th>\n",
              "      <td>Female</td>\n",
              "      <td>41.0</td>\n",
              "      <td>0</td>\n",
              "      <td>0</td>\n",
              "      <td>never</td>\n",
              "      <td>30.80</td>\n",
              "      <td>6.1</td>\n",
              "      <td>300</td>\n",
              "      <td>1</td>\n",
              "    </tr>\n",
              "    <tr>\n",
              "      <th>1612</th>\n",
              "      <td>Female</td>\n",
              "      <td>71.0</td>\n",
              "      <td>1</td>\n",
              "      <td>0</td>\n",
              "      <td>never</td>\n",
              "      <td>62.80</td>\n",
              "      <td>8.2</td>\n",
              "      <td>155</td>\n",
              "      <td>1</td>\n",
              "    </tr>\n",
              "    <tr>\n",
              "      <th>1613</th>\n",
              "      <td>Male</td>\n",
              "      <td>80.0</td>\n",
              "      <td>0</td>\n",
              "      <td>0</td>\n",
              "      <td>not current</td>\n",
              "      <td>20.97</td>\n",
              "      <td>9.0</td>\n",
              "      <td>240</td>\n",
              "      <td>1</td>\n",
              "    </tr>\n",
              "  </tbody>\n",
              "</table>\n",
              "<p>1614 rows × 9 columns</p>\n",
              "</div>\n",
              "    <div class=\"colab-df-buttons\">\n",
              "\n",
              "  <div class=\"colab-df-container\">\n",
              "    <button class=\"colab-df-convert\" onclick=\"convertToInteractive('df-c977e3f6-80c4-4281-96f3-24c745889b6a')\"\n",
              "            title=\"Convert this dataframe to an interactive table.\"\n",
              "            style=\"display:none;\">\n",
              "\n",
              "  <svg xmlns=\"http://www.w3.org/2000/svg\" height=\"24px\" viewBox=\"0 -960 960 960\">\n",
              "    <path d=\"M120-120v-720h720v720H120Zm60-500h600v-160H180v160Zm220 220h160v-160H400v160Zm0 220h160v-160H400v160ZM180-400h160v-160H180v160Zm440 0h160v-160H620v160ZM180-180h160v-160H180v160Zm440 0h160v-160H620v160Z\"/>\n",
              "  </svg>\n",
              "    </button>\n",
              "\n",
              "  <style>\n",
              "    .colab-df-container {\n",
              "      display:flex;\n",
              "      gap: 12px;\n",
              "    }\n",
              "\n",
              "    .colab-df-convert {\n",
              "      background-color: #E8F0FE;\n",
              "      border: none;\n",
              "      border-radius: 50%;\n",
              "      cursor: pointer;\n",
              "      display: none;\n",
              "      fill: #1967D2;\n",
              "      height: 32px;\n",
              "      padding: 0 0 0 0;\n",
              "      width: 32px;\n",
              "    }\n",
              "\n",
              "    .colab-df-convert:hover {\n",
              "      background-color: #E2EBFA;\n",
              "      box-shadow: 0px 1px 2px rgba(60, 64, 67, 0.3), 0px 1px 3px 1px rgba(60, 64, 67, 0.15);\n",
              "      fill: #174EA6;\n",
              "    }\n",
              "\n",
              "    .colab-df-buttons div {\n",
              "      margin-bottom: 4px;\n",
              "    }\n",
              "\n",
              "    [theme=dark] .colab-df-convert {\n",
              "      background-color: #3B4455;\n",
              "      fill: #D2E3FC;\n",
              "    }\n",
              "\n",
              "    [theme=dark] .colab-df-convert:hover {\n",
              "      background-color: #434B5C;\n",
              "      box-shadow: 0px 1px 3px 1px rgba(0, 0, 0, 0.15);\n",
              "      filter: drop-shadow(0px 1px 2px rgba(0, 0, 0, 0.3));\n",
              "      fill: #FFFFFF;\n",
              "    }\n",
              "  </style>\n",
              "\n",
              "    <script>\n",
              "      const buttonEl =\n",
              "        document.querySelector('#df-c977e3f6-80c4-4281-96f3-24c745889b6a button.colab-df-convert');\n",
              "      buttonEl.style.display =\n",
              "        google.colab.kernel.accessAllowed ? 'block' : 'none';\n",
              "\n",
              "      async function convertToInteractive(key) {\n",
              "        const element = document.querySelector('#df-c977e3f6-80c4-4281-96f3-24c745889b6a');\n",
              "        const dataTable =\n",
              "          await google.colab.kernel.invokeFunction('convertToInteractive',\n",
              "                                                    [key], {});\n",
              "        if (!dataTable) return;\n",
              "\n",
              "        const docLinkHtml = 'Like what you see? Visit the ' +\n",
              "          '<a target=\"_blank\" href=https://colab.research.google.com/notebooks/data_table.ipynb>data table notebook</a>'\n",
              "          + ' to learn more about interactive tables.';\n",
              "        element.innerHTML = '';\n",
              "        dataTable['output_type'] = 'display_data';\n",
              "        await google.colab.output.renderOutput(dataTable, element);\n",
              "        const docLink = document.createElement('div');\n",
              "        docLink.innerHTML = docLinkHtml;\n",
              "        element.appendChild(docLink);\n",
              "      }\n",
              "    </script>\n",
              "  </div>\n",
              "\n",
              "\n",
              "<div id=\"df-957846ba-308c-47da-aa57-3ff0c8967e29\">\n",
              "  <button class=\"colab-df-quickchart\" onclick=\"quickchart('df-957846ba-308c-47da-aa57-3ff0c8967e29')\"\n",
              "            title=\"Suggest charts\"\n",
              "            style=\"display:none;\">\n",
              "\n",
              "<svg xmlns=\"http://www.w3.org/2000/svg\" height=\"24px\"viewBox=\"0 0 24 24\"\n",
              "     width=\"24px\">\n",
              "    <g>\n",
              "        <path d=\"M19 3H5c-1.1 0-2 .9-2 2v14c0 1.1.9 2 2 2h14c1.1 0 2-.9 2-2V5c0-1.1-.9-2-2-2zM9 17H7v-7h2v7zm4 0h-2V7h2v10zm4 0h-2v-4h2v4z\"/>\n",
              "    </g>\n",
              "</svg>\n",
              "  </button>\n",
              "\n",
              "<style>\n",
              "  .colab-df-quickchart {\n",
              "      --bg-color: #E8F0FE;\n",
              "      --fill-color: #1967D2;\n",
              "      --hover-bg-color: #E2EBFA;\n",
              "      --hover-fill-color: #174EA6;\n",
              "      --disabled-fill-color: #AAA;\n",
              "      --disabled-bg-color: #DDD;\n",
              "  }\n",
              "\n",
              "  [theme=dark] .colab-df-quickchart {\n",
              "      --bg-color: #3B4455;\n",
              "      --fill-color: #D2E3FC;\n",
              "      --hover-bg-color: #434B5C;\n",
              "      --hover-fill-color: #FFFFFF;\n",
              "      --disabled-bg-color: #3B4455;\n",
              "      --disabled-fill-color: #666;\n",
              "  }\n",
              "\n",
              "  .colab-df-quickchart {\n",
              "    background-color: var(--bg-color);\n",
              "    border: none;\n",
              "    border-radius: 50%;\n",
              "    cursor: pointer;\n",
              "    display: none;\n",
              "    fill: var(--fill-color);\n",
              "    height: 32px;\n",
              "    padding: 0;\n",
              "    width: 32px;\n",
              "  }\n",
              "\n",
              "  .colab-df-quickchart:hover {\n",
              "    background-color: var(--hover-bg-color);\n",
              "    box-shadow: 0 1px 2px rgba(60, 64, 67, 0.3), 0 1px 3px 1px rgba(60, 64, 67, 0.15);\n",
              "    fill: var(--button-hover-fill-color);\n",
              "  }\n",
              "\n",
              "  .colab-df-quickchart-complete:disabled,\n",
              "  .colab-df-quickchart-complete:disabled:hover {\n",
              "    background-color: var(--disabled-bg-color);\n",
              "    fill: var(--disabled-fill-color);\n",
              "    box-shadow: none;\n",
              "  }\n",
              "\n",
              "  .colab-df-spinner {\n",
              "    border: 2px solid var(--fill-color);\n",
              "    border-color: transparent;\n",
              "    border-bottom-color: var(--fill-color);\n",
              "    animation:\n",
              "      spin 1s steps(1) infinite;\n",
              "  }\n",
              "\n",
              "  @keyframes spin {\n",
              "    0% {\n",
              "      border-color: transparent;\n",
              "      border-bottom-color: var(--fill-color);\n",
              "      border-left-color: var(--fill-color);\n",
              "    }\n",
              "    20% {\n",
              "      border-color: transparent;\n",
              "      border-left-color: var(--fill-color);\n",
              "      border-top-color: var(--fill-color);\n",
              "    }\n",
              "    30% {\n",
              "      border-color: transparent;\n",
              "      border-left-color: var(--fill-color);\n",
              "      border-top-color: var(--fill-color);\n",
              "      border-right-color: var(--fill-color);\n",
              "    }\n",
              "    40% {\n",
              "      border-color: transparent;\n",
              "      border-right-color: var(--fill-color);\n",
              "      border-top-color: var(--fill-color);\n",
              "    }\n",
              "    60% {\n",
              "      border-color: transparent;\n",
              "      border-right-color: var(--fill-color);\n",
              "    }\n",
              "    80% {\n",
              "      border-color: transparent;\n",
              "      border-right-color: var(--fill-color);\n",
              "      border-bottom-color: var(--fill-color);\n",
              "    }\n",
              "    90% {\n",
              "      border-color: transparent;\n",
              "      border-bottom-color: var(--fill-color);\n",
              "    }\n",
              "  }\n",
              "</style>\n",
              "\n",
              "  <script>\n",
              "    async function quickchart(key) {\n",
              "      const quickchartButtonEl =\n",
              "        document.querySelector('#' + key + ' button');\n",
              "      quickchartButtonEl.disabled = true;  // To prevent multiple clicks.\n",
              "      quickchartButtonEl.classList.add('colab-df-spinner');\n",
              "      try {\n",
              "        const charts = await google.colab.kernel.invokeFunction(\n",
              "            'suggestCharts', [key], {});\n",
              "      } catch (error) {\n",
              "        console.error('Error during call to suggestCharts:', error);\n",
              "      }\n",
              "      quickchartButtonEl.classList.remove('colab-df-spinner');\n",
              "      quickchartButtonEl.classList.add('colab-df-quickchart-complete');\n",
              "    }\n",
              "    (() => {\n",
              "      let quickchartButtonEl =\n",
              "        document.querySelector('#df-957846ba-308c-47da-aa57-3ff0c8967e29 button');\n",
              "      quickchartButtonEl.style.display =\n",
              "        google.colab.kernel.accessAllowed ? 'block' : 'none';\n",
              "    })();\n",
              "  </script>\n",
              "</div>\n",
              "    </div>\n",
              "  </div>\n"
            ]
          },
          "metadata": {},
          "execution_count": 2
        }
      ]
    },
    {
      "cell_type": "markdown",
      "source": [
        "# Задание 3: Первоначальный анализ данных\n",
        "\n",
        "Ваша задача - изучить начало набора данных. Взгляните на несколько первых записей в датасете. Это даст вам представление о структуре данных и типах значений, которые вы увидите в каждом столбце.\n",
        "\n",
        "Ожидаемый результат: Вывод первых 10 строк вашего DataFrame."
      ],
      "metadata": {
        "id": "yefOw--lvFCO"
      }
    },
    {
      "cell_type": "code",
      "source": [
        "# место для ответа\n",
        "dia_df.head(10)"
      ],
      "metadata": {
        "id": "6FGyLGFQwv2X",
        "outputId": "f5cc3b8d-5b19-4b47-e830-2690a8fda4b6",
        "colab": {
          "base_uri": "https://localhost:8080/",
          "height": 363
        }
      },
      "execution_count": 3,
      "outputs": [
        {
          "output_type": "execute_result",
          "data": {
            "text/plain": [
              "   gender   age  hypertension  heart_disease smoking_history    bmi  \\\n",
              "0  Female  16.0             0              0         No Info  15.43   \n",
              "1    Male   4.0             0              0           never  27.32   \n",
              "2    Male  62.0             0              0          former  26.60   \n",
              "3    Male  20.0             0              0         No Info  33.13   \n",
              "4    Male  70.0             0              0         No Info  27.32   \n",
              "5  Female  73.0             0              0     not current  19.00   \n",
              "6    Male  71.0             0              0         current  29.14   \n",
              "7    Male  61.0             0              0         No Info  24.64   \n",
              "8    Male  48.0             0              0         No Info  30.23   \n",
              "9    Male  17.0             0              0         No Info  27.32   \n",
              "\n",
              "   HbA1c_level  blood_glucose_level  diabetes  \n",
              "0          6.5                  145         0  \n",
              "1          4.0                  130         0  \n",
              "2          3.5                  126         0  \n",
              "3          6.5                  200         0  \n",
              "4          5.0                  158         0  \n",
              "5          6.2                  158         0  \n",
              "6          6.6                  126         0  \n",
              "7          5.0                  160         0  \n",
              "8          6.6                   90         0  \n",
              "9          5.0                  160         0  "
            ],
            "text/html": [
              "\n",
              "  <div id=\"df-a7095e6b-2ec6-4154-97d6-b6af1de47f7f\" class=\"colab-df-container\">\n",
              "    <div>\n",
              "<style scoped>\n",
              "    .dataframe tbody tr th:only-of-type {\n",
              "        vertical-align: middle;\n",
              "    }\n",
              "\n",
              "    .dataframe tbody tr th {\n",
              "        vertical-align: top;\n",
              "    }\n",
              "\n",
              "    .dataframe thead th {\n",
              "        text-align: right;\n",
              "    }\n",
              "</style>\n",
              "<table border=\"1\" class=\"dataframe\">\n",
              "  <thead>\n",
              "    <tr style=\"text-align: right;\">\n",
              "      <th></th>\n",
              "      <th>gender</th>\n",
              "      <th>age</th>\n",
              "      <th>hypertension</th>\n",
              "      <th>heart_disease</th>\n",
              "      <th>smoking_history</th>\n",
              "      <th>bmi</th>\n",
              "      <th>HbA1c_level</th>\n",
              "      <th>blood_glucose_level</th>\n",
              "      <th>diabetes</th>\n",
              "    </tr>\n",
              "  </thead>\n",
              "  <tbody>\n",
              "    <tr>\n",
              "      <th>0</th>\n",
              "      <td>Female</td>\n",
              "      <td>16.0</td>\n",
              "      <td>0</td>\n",
              "      <td>0</td>\n",
              "      <td>No Info</td>\n",
              "      <td>15.43</td>\n",
              "      <td>6.5</td>\n",
              "      <td>145</td>\n",
              "      <td>0</td>\n",
              "    </tr>\n",
              "    <tr>\n",
              "      <th>1</th>\n",
              "      <td>Male</td>\n",
              "      <td>4.0</td>\n",
              "      <td>0</td>\n",
              "      <td>0</td>\n",
              "      <td>never</td>\n",
              "      <td>27.32</td>\n",
              "      <td>4.0</td>\n",
              "      <td>130</td>\n",
              "      <td>0</td>\n",
              "    </tr>\n",
              "    <tr>\n",
              "      <th>2</th>\n",
              "      <td>Male</td>\n",
              "      <td>62.0</td>\n",
              "      <td>0</td>\n",
              "      <td>0</td>\n",
              "      <td>former</td>\n",
              "      <td>26.60</td>\n",
              "      <td>3.5</td>\n",
              "      <td>126</td>\n",
              "      <td>0</td>\n",
              "    </tr>\n",
              "    <tr>\n",
              "      <th>3</th>\n",
              "      <td>Male</td>\n",
              "      <td>20.0</td>\n",
              "      <td>0</td>\n",
              "      <td>0</td>\n",
              "      <td>No Info</td>\n",
              "      <td>33.13</td>\n",
              "      <td>6.5</td>\n",
              "      <td>200</td>\n",
              "      <td>0</td>\n",
              "    </tr>\n",
              "    <tr>\n",
              "      <th>4</th>\n",
              "      <td>Male</td>\n",
              "      <td>70.0</td>\n",
              "      <td>0</td>\n",
              "      <td>0</td>\n",
              "      <td>No Info</td>\n",
              "      <td>27.32</td>\n",
              "      <td>5.0</td>\n",
              "      <td>158</td>\n",
              "      <td>0</td>\n",
              "    </tr>\n",
              "    <tr>\n",
              "      <th>5</th>\n",
              "      <td>Female</td>\n",
              "      <td>73.0</td>\n",
              "      <td>0</td>\n",
              "      <td>0</td>\n",
              "      <td>not current</td>\n",
              "      <td>19.00</td>\n",
              "      <td>6.2</td>\n",
              "      <td>158</td>\n",
              "      <td>0</td>\n",
              "    </tr>\n",
              "    <tr>\n",
              "      <th>6</th>\n",
              "      <td>Male</td>\n",
              "      <td>71.0</td>\n",
              "      <td>0</td>\n",
              "      <td>0</td>\n",
              "      <td>current</td>\n",
              "      <td>29.14</td>\n",
              "      <td>6.6</td>\n",
              "      <td>126</td>\n",
              "      <td>0</td>\n",
              "    </tr>\n",
              "    <tr>\n",
              "      <th>7</th>\n",
              "      <td>Male</td>\n",
              "      <td>61.0</td>\n",
              "      <td>0</td>\n",
              "      <td>0</td>\n",
              "      <td>No Info</td>\n",
              "      <td>24.64</td>\n",
              "      <td>5.0</td>\n",
              "      <td>160</td>\n",
              "      <td>0</td>\n",
              "    </tr>\n",
              "    <tr>\n",
              "      <th>8</th>\n",
              "      <td>Male</td>\n",
              "      <td>48.0</td>\n",
              "      <td>0</td>\n",
              "      <td>0</td>\n",
              "      <td>No Info</td>\n",
              "      <td>30.23</td>\n",
              "      <td>6.6</td>\n",
              "      <td>90</td>\n",
              "      <td>0</td>\n",
              "    </tr>\n",
              "    <tr>\n",
              "      <th>9</th>\n",
              "      <td>Male</td>\n",
              "      <td>17.0</td>\n",
              "      <td>0</td>\n",
              "      <td>0</td>\n",
              "      <td>No Info</td>\n",
              "      <td>27.32</td>\n",
              "      <td>5.0</td>\n",
              "      <td>160</td>\n",
              "      <td>0</td>\n",
              "    </tr>\n",
              "  </tbody>\n",
              "</table>\n",
              "</div>\n",
              "    <div class=\"colab-df-buttons\">\n",
              "\n",
              "  <div class=\"colab-df-container\">\n",
              "    <button class=\"colab-df-convert\" onclick=\"convertToInteractive('df-a7095e6b-2ec6-4154-97d6-b6af1de47f7f')\"\n",
              "            title=\"Convert this dataframe to an interactive table.\"\n",
              "            style=\"display:none;\">\n",
              "\n",
              "  <svg xmlns=\"http://www.w3.org/2000/svg\" height=\"24px\" viewBox=\"0 -960 960 960\">\n",
              "    <path d=\"M120-120v-720h720v720H120Zm60-500h600v-160H180v160Zm220 220h160v-160H400v160Zm0 220h160v-160H400v160ZM180-400h160v-160H180v160Zm440 0h160v-160H620v160ZM180-180h160v-160H180v160Zm440 0h160v-160H620v160Z\"/>\n",
              "  </svg>\n",
              "    </button>\n",
              "\n",
              "  <style>\n",
              "    .colab-df-container {\n",
              "      display:flex;\n",
              "      gap: 12px;\n",
              "    }\n",
              "\n",
              "    .colab-df-convert {\n",
              "      background-color: #E8F0FE;\n",
              "      border: none;\n",
              "      border-radius: 50%;\n",
              "      cursor: pointer;\n",
              "      display: none;\n",
              "      fill: #1967D2;\n",
              "      height: 32px;\n",
              "      padding: 0 0 0 0;\n",
              "      width: 32px;\n",
              "    }\n",
              "\n",
              "    .colab-df-convert:hover {\n",
              "      background-color: #E2EBFA;\n",
              "      box-shadow: 0px 1px 2px rgba(60, 64, 67, 0.3), 0px 1px 3px 1px rgba(60, 64, 67, 0.15);\n",
              "      fill: #174EA6;\n",
              "    }\n",
              "\n",
              "    .colab-df-buttons div {\n",
              "      margin-bottom: 4px;\n",
              "    }\n",
              "\n",
              "    [theme=dark] .colab-df-convert {\n",
              "      background-color: #3B4455;\n",
              "      fill: #D2E3FC;\n",
              "    }\n",
              "\n",
              "    [theme=dark] .colab-df-convert:hover {\n",
              "      background-color: #434B5C;\n",
              "      box-shadow: 0px 1px 3px 1px rgba(0, 0, 0, 0.15);\n",
              "      filter: drop-shadow(0px 1px 2px rgba(0, 0, 0, 0.3));\n",
              "      fill: #FFFFFF;\n",
              "    }\n",
              "  </style>\n",
              "\n",
              "    <script>\n",
              "      const buttonEl =\n",
              "        document.querySelector('#df-a7095e6b-2ec6-4154-97d6-b6af1de47f7f button.colab-df-convert');\n",
              "      buttonEl.style.display =\n",
              "        google.colab.kernel.accessAllowed ? 'block' : 'none';\n",
              "\n",
              "      async function convertToInteractive(key) {\n",
              "        const element = document.querySelector('#df-a7095e6b-2ec6-4154-97d6-b6af1de47f7f');\n",
              "        const dataTable =\n",
              "          await google.colab.kernel.invokeFunction('convertToInteractive',\n",
              "                                                    [key], {});\n",
              "        if (!dataTable) return;\n",
              "\n",
              "        const docLinkHtml = 'Like what you see? Visit the ' +\n",
              "          '<a target=\"_blank\" href=https://colab.research.google.com/notebooks/data_table.ipynb>data table notebook</a>'\n",
              "          + ' to learn more about interactive tables.';\n",
              "        element.innerHTML = '';\n",
              "        dataTable['output_type'] = 'display_data';\n",
              "        await google.colab.output.renderOutput(dataTable, element);\n",
              "        const docLink = document.createElement('div');\n",
              "        docLink.innerHTML = docLinkHtml;\n",
              "        element.appendChild(docLink);\n",
              "      }\n",
              "    </script>\n",
              "  </div>\n",
              "\n",
              "\n",
              "<div id=\"df-082d8ae1-d240-453b-aa61-98a1ed9937d7\">\n",
              "  <button class=\"colab-df-quickchart\" onclick=\"quickchart('df-082d8ae1-d240-453b-aa61-98a1ed9937d7')\"\n",
              "            title=\"Suggest charts\"\n",
              "            style=\"display:none;\">\n",
              "\n",
              "<svg xmlns=\"http://www.w3.org/2000/svg\" height=\"24px\"viewBox=\"0 0 24 24\"\n",
              "     width=\"24px\">\n",
              "    <g>\n",
              "        <path d=\"M19 3H5c-1.1 0-2 .9-2 2v14c0 1.1.9 2 2 2h14c1.1 0 2-.9 2-2V5c0-1.1-.9-2-2-2zM9 17H7v-7h2v7zm4 0h-2V7h2v10zm4 0h-2v-4h2v4z\"/>\n",
              "    </g>\n",
              "</svg>\n",
              "  </button>\n",
              "\n",
              "<style>\n",
              "  .colab-df-quickchart {\n",
              "      --bg-color: #E8F0FE;\n",
              "      --fill-color: #1967D2;\n",
              "      --hover-bg-color: #E2EBFA;\n",
              "      --hover-fill-color: #174EA6;\n",
              "      --disabled-fill-color: #AAA;\n",
              "      --disabled-bg-color: #DDD;\n",
              "  }\n",
              "\n",
              "  [theme=dark] .colab-df-quickchart {\n",
              "      --bg-color: #3B4455;\n",
              "      --fill-color: #D2E3FC;\n",
              "      --hover-bg-color: #434B5C;\n",
              "      --hover-fill-color: #FFFFFF;\n",
              "      --disabled-bg-color: #3B4455;\n",
              "      --disabled-fill-color: #666;\n",
              "  }\n",
              "\n",
              "  .colab-df-quickchart {\n",
              "    background-color: var(--bg-color);\n",
              "    border: none;\n",
              "    border-radius: 50%;\n",
              "    cursor: pointer;\n",
              "    display: none;\n",
              "    fill: var(--fill-color);\n",
              "    height: 32px;\n",
              "    padding: 0;\n",
              "    width: 32px;\n",
              "  }\n",
              "\n",
              "  .colab-df-quickchart:hover {\n",
              "    background-color: var(--hover-bg-color);\n",
              "    box-shadow: 0 1px 2px rgba(60, 64, 67, 0.3), 0 1px 3px 1px rgba(60, 64, 67, 0.15);\n",
              "    fill: var(--button-hover-fill-color);\n",
              "  }\n",
              "\n",
              "  .colab-df-quickchart-complete:disabled,\n",
              "  .colab-df-quickchart-complete:disabled:hover {\n",
              "    background-color: var(--disabled-bg-color);\n",
              "    fill: var(--disabled-fill-color);\n",
              "    box-shadow: none;\n",
              "  }\n",
              "\n",
              "  .colab-df-spinner {\n",
              "    border: 2px solid var(--fill-color);\n",
              "    border-color: transparent;\n",
              "    border-bottom-color: var(--fill-color);\n",
              "    animation:\n",
              "      spin 1s steps(1) infinite;\n",
              "  }\n",
              "\n",
              "  @keyframes spin {\n",
              "    0% {\n",
              "      border-color: transparent;\n",
              "      border-bottom-color: var(--fill-color);\n",
              "      border-left-color: var(--fill-color);\n",
              "    }\n",
              "    20% {\n",
              "      border-color: transparent;\n",
              "      border-left-color: var(--fill-color);\n",
              "      border-top-color: var(--fill-color);\n",
              "    }\n",
              "    30% {\n",
              "      border-color: transparent;\n",
              "      border-left-color: var(--fill-color);\n",
              "      border-top-color: var(--fill-color);\n",
              "      border-right-color: var(--fill-color);\n",
              "    }\n",
              "    40% {\n",
              "      border-color: transparent;\n",
              "      border-right-color: var(--fill-color);\n",
              "      border-top-color: var(--fill-color);\n",
              "    }\n",
              "    60% {\n",
              "      border-color: transparent;\n",
              "      border-right-color: var(--fill-color);\n",
              "    }\n",
              "    80% {\n",
              "      border-color: transparent;\n",
              "      border-right-color: var(--fill-color);\n",
              "      border-bottom-color: var(--fill-color);\n",
              "    }\n",
              "    90% {\n",
              "      border-color: transparent;\n",
              "      border-bottom-color: var(--fill-color);\n",
              "    }\n",
              "  }\n",
              "</style>\n",
              "\n",
              "  <script>\n",
              "    async function quickchart(key) {\n",
              "      const quickchartButtonEl =\n",
              "        document.querySelector('#' + key + ' button');\n",
              "      quickchartButtonEl.disabled = true;  // To prevent multiple clicks.\n",
              "      quickchartButtonEl.classList.add('colab-df-spinner');\n",
              "      try {\n",
              "        const charts = await google.colab.kernel.invokeFunction(\n",
              "            'suggestCharts', [key], {});\n",
              "      } catch (error) {\n",
              "        console.error('Error during call to suggestCharts:', error);\n",
              "      }\n",
              "      quickchartButtonEl.classList.remove('colab-df-spinner');\n",
              "      quickchartButtonEl.classList.add('colab-df-quickchart-complete');\n",
              "    }\n",
              "    (() => {\n",
              "      let quickchartButtonEl =\n",
              "        document.querySelector('#df-082d8ae1-d240-453b-aa61-98a1ed9937d7 button');\n",
              "      quickchartButtonEl.style.display =\n",
              "        google.colab.kernel.accessAllowed ? 'block' : 'none';\n",
              "    })();\n",
              "  </script>\n",
              "</div>\n",
              "    </div>\n",
              "  </div>\n"
            ]
          },
          "metadata": {},
          "execution_count": 3
        }
      ]
    },
    {
      "cell_type": "markdown",
      "source": [
        "Теперь посмотрите на конец вашего набора данных. Это позволит увидеть, есть ли какие-либо очевидные отличия или проблемы в последних записях.\n",
        "\n",
        "Ожидаемый результат: Вывод последних 10 строк вашего DataFrame."
      ],
      "metadata": {
        "id": "QMLO4nbPwwXF"
      }
    },
    {
      "cell_type": "code",
      "source": [
        "# место для ответа\n",
        "dia_df.tail(10)"
      ],
      "metadata": {
        "id": "zN0V7rvRw5wU",
        "outputId": "786adc5e-ecfe-4238-c681-dd2018788d52",
        "colab": {
          "base_uri": "https://localhost:8080/",
          "height": 363
        }
      },
      "execution_count": 4,
      "outputs": [
        {
          "output_type": "execute_result",
          "data": {
            "text/plain": [
              "      gender   age  hypertension  heart_disease smoking_history    bmi  \\\n",
              "1604  Female  51.0             0              0           never  45.79   \n",
              "1605  Female  71.0             0              0         No Info  27.32   \n",
              "1606    Male  64.0             0              0         current  29.77   \n",
              "1607    Male  79.0             0              0           never  33.72   \n",
              "1608  Female  80.0             0              0     not current  36.04   \n",
              "1609  Female  60.0             0              1          former  26.63   \n",
              "1610  Female  44.0             0              1         current  34.35   \n",
              "1611  Female  41.0             0              0           never  30.80   \n",
              "1612  Female  71.0             1              0           never  62.80   \n",
              "1613    Male  80.0             0              0     not current  20.97   \n",
              "\n",
              "      HbA1c_level  blood_glucose_level  diabetes  \n",
              "1604          6.0                  130         1  \n",
              "1605          6.1                  155         1  \n",
              "1606          6.0                  200         1  \n",
              "1607          7.5                  260         1  \n",
              "1608          8.8                  260         1  \n",
              "1609          7.5                  160         1  \n",
              "1610          6.6                  140         1  \n",
              "1611          6.1                  300         1  \n",
              "1612          8.2                  155         1  \n",
              "1613          9.0                  240         1  "
            ],
            "text/html": [
              "\n",
              "  <div id=\"df-ddfa3e95-999a-4522-a993-bf0439110213\" class=\"colab-df-container\">\n",
              "    <div>\n",
              "<style scoped>\n",
              "    .dataframe tbody tr th:only-of-type {\n",
              "        vertical-align: middle;\n",
              "    }\n",
              "\n",
              "    .dataframe tbody tr th {\n",
              "        vertical-align: top;\n",
              "    }\n",
              "\n",
              "    .dataframe thead th {\n",
              "        text-align: right;\n",
              "    }\n",
              "</style>\n",
              "<table border=\"1\" class=\"dataframe\">\n",
              "  <thead>\n",
              "    <tr style=\"text-align: right;\">\n",
              "      <th></th>\n",
              "      <th>gender</th>\n",
              "      <th>age</th>\n",
              "      <th>hypertension</th>\n",
              "      <th>heart_disease</th>\n",
              "      <th>smoking_history</th>\n",
              "      <th>bmi</th>\n",
              "      <th>HbA1c_level</th>\n",
              "      <th>blood_glucose_level</th>\n",
              "      <th>diabetes</th>\n",
              "    </tr>\n",
              "  </thead>\n",
              "  <tbody>\n",
              "    <tr>\n",
              "      <th>1604</th>\n",
              "      <td>Female</td>\n",
              "      <td>51.0</td>\n",
              "      <td>0</td>\n",
              "      <td>0</td>\n",
              "      <td>never</td>\n",
              "      <td>45.79</td>\n",
              "      <td>6.0</td>\n",
              "      <td>130</td>\n",
              "      <td>1</td>\n",
              "    </tr>\n",
              "    <tr>\n",
              "      <th>1605</th>\n",
              "      <td>Female</td>\n",
              "      <td>71.0</td>\n",
              "      <td>0</td>\n",
              "      <td>0</td>\n",
              "      <td>No Info</td>\n",
              "      <td>27.32</td>\n",
              "      <td>6.1</td>\n",
              "      <td>155</td>\n",
              "      <td>1</td>\n",
              "    </tr>\n",
              "    <tr>\n",
              "      <th>1606</th>\n",
              "      <td>Male</td>\n",
              "      <td>64.0</td>\n",
              "      <td>0</td>\n",
              "      <td>0</td>\n",
              "      <td>current</td>\n",
              "      <td>29.77</td>\n",
              "      <td>6.0</td>\n",
              "      <td>200</td>\n",
              "      <td>1</td>\n",
              "    </tr>\n",
              "    <tr>\n",
              "      <th>1607</th>\n",
              "      <td>Male</td>\n",
              "      <td>79.0</td>\n",
              "      <td>0</td>\n",
              "      <td>0</td>\n",
              "      <td>never</td>\n",
              "      <td>33.72</td>\n",
              "      <td>7.5</td>\n",
              "      <td>260</td>\n",
              "      <td>1</td>\n",
              "    </tr>\n",
              "    <tr>\n",
              "      <th>1608</th>\n",
              "      <td>Female</td>\n",
              "      <td>80.0</td>\n",
              "      <td>0</td>\n",
              "      <td>0</td>\n",
              "      <td>not current</td>\n",
              "      <td>36.04</td>\n",
              "      <td>8.8</td>\n",
              "      <td>260</td>\n",
              "      <td>1</td>\n",
              "    </tr>\n",
              "    <tr>\n",
              "      <th>1609</th>\n",
              "      <td>Female</td>\n",
              "      <td>60.0</td>\n",
              "      <td>0</td>\n",
              "      <td>1</td>\n",
              "      <td>former</td>\n",
              "      <td>26.63</td>\n",
              "      <td>7.5</td>\n",
              "      <td>160</td>\n",
              "      <td>1</td>\n",
              "    </tr>\n",
              "    <tr>\n",
              "      <th>1610</th>\n",
              "      <td>Female</td>\n",
              "      <td>44.0</td>\n",
              "      <td>0</td>\n",
              "      <td>1</td>\n",
              "      <td>current</td>\n",
              "      <td>34.35</td>\n",
              "      <td>6.6</td>\n",
              "      <td>140</td>\n",
              "      <td>1</td>\n",
              "    </tr>\n",
              "    <tr>\n",
              "      <th>1611</th>\n",
              "      <td>Female</td>\n",
              "      <td>41.0</td>\n",
              "      <td>0</td>\n",
              "      <td>0</td>\n",
              "      <td>never</td>\n",
              "      <td>30.80</td>\n",
              "      <td>6.1</td>\n",
              "      <td>300</td>\n",
              "      <td>1</td>\n",
              "    </tr>\n",
              "    <tr>\n",
              "      <th>1612</th>\n",
              "      <td>Female</td>\n",
              "      <td>71.0</td>\n",
              "      <td>1</td>\n",
              "      <td>0</td>\n",
              "      <td>never</td>\n",
              "      <td>62.80</td>\n",
              "      <td>8.2</td>\n",
              "      <td>155</td>\n",
              "      <td>1</td>\n",
              "    </tr>\n",
              "    <tr>\n",
              "      <th>1613</th>\n",
              "      <td>Male</td>\n",
              "      <td>80.0</td>\n",
              "      <td>0</td>\n",
              "      <td>0</td>\n",
              "      <td>not current</td>\n",
              "      <td>20.97</td>\n",
              "      <td>9.0</td>\n",
              "      <td>240</td>\n",
              "      <td>1</td>\n",
              "    </tr>\n",
              "  </tbody>\n",
              "</table>\n",
              "</div>\n",
              "    <div class=\"colab-df-buttons\">\n",
              "\n",
              "  <div class=\"colab-df-container\">\n",
              "    <button class=\"colab-df-convert\" onclick=\"convertToInteractive('df-ddfa3e95-999a-4522-a993-bf0439110213')\"\n",
              "            title=\"Convert this dataframe to an interactive table.\"\n",
              "            style=\"display:none;\">\n",
              "\n",
              "  <svg xmlns=\"http://www.w3.org/2000/svg\" height=\"24px\" viewBox=\"0 -960 960 960\">\n",
              "    <path d=\"M120-120v-720h720v720H120Zm60-500h600v-160H180v160Zm220 220h160v-160H400v160Zm0 220h160v-160H400v160ZM180-400h160v-160H180v160Zm440 0h160v-160H620v160ZM180-180h160v-160H180v160Zm440 0h160v-160H620v160Z\"/>\n",
              "  </svg>\n",
              "    </button>\n",
              "\n",
              "  <style>\n",
              "    .colab-df-container {\n",
              "      display:flex;\n",
              "      gap: 12px;\n",
              "    }\n",
              "\n",
              "    .colab-df-convert {\n",
              "      background-color: #E8F0FE;\n",
              "      border: none;\n",
              "      border-radius: 50%;\n",
              "      cursor: pointer;\n",
              "      display: none;\n",
              "      fill: #1967D2;\n",
              "      height: 32px;\n",
              "      padding: 0 0 0 0;\n",
              "      width: 32px;\n",
              "    }\n",
              "\n",
              "    .colab-df-convert:hover {\n",
              "      background-color: #E2EBFA;\n",
              "      box-shadow: 0px 1px 2px rgba(60, 64, 67, 0.3), 0px 1px 3px 1px rgba(60, 64, 67, 0.15);\n",
              "      fill: #174EA6;\n",
              "    }\n",
              "\n",
              "    .colab-df-buttons div {\n",
              "      margin-bottom: 4px;\n",
              "    }\n",
              "\n",
              "    [theme=dark] .colab-df-convert {\n",
              "      background-color: #3B4455;\n",
              "      fill: #D2E3FC;\n",
              "    }\n",
              "\n",
              "    [theme=dark] .colab-df-convert:hover {\n",
              "      background-color: #434B5C;\n",
              "      box-shadow: 0px 1px 3px 1px rgba(0, 0, 0, 0.15);\n",
              "      filter: drop-shadow(0px 1px 2px rgba(0, 0, 0, 0.3));\n",
              "      fill: #FFFFFF;\n",
              "    }\n",
              "  </style>\n",
              "\n",
              "    <script>\n",
              "      const buttonEl =\n",
              "        document.querySelector('#df-ddfa3e95-999a-4522-a993-bf0439110213 button.colab-df-convert');\n",
              "      buttonEl.style.display =\n",
              "        google.colab.kernel.accessAllowed ? 'block' : 'none';\n",
              "\n",
              "      async function convertToInteractive(key) {\n",
              "        const element = document.querySelector('#df-ddfa3e95-999a-4522-a993-bf0439110213');\n",
              "        const dataTable =\n",
              "          await google.colab.kernel.invokeFunction('convertToInteractive',\n",
              "                                                    [key], {});\n",
              "        if (!dataTable) return;\n",
              "\n",
              "        const docLinkHtml = 'Like what you see? Visit the ' +\n",
              "          '<a target=\"_blank\" href=https://colab.research.google.com/notebooks/data_table.ipynb>data table notebook</a>'\n",
              "          + ' to learn more about interactive tables.';\n",
              "        element.innerHTML = '';\n",
              "        dataTable['output_type'] = 'display_data';\n",
              "        await google.colab.output.renderOutput(dataTable, element);\n",
              "        const docLink = document.createElement('div');\n",
              "        docLink.innerHTML = docLinkHtml;\n",
              "        element.appendChild(docLink);\n",
              "      }\n",
              "    </script>\n",
              "  </div>\n",
              "\n",
              "\n",
              "<div id=\"df-be0ccc6d-eb84-465c-8a40-bfced9c1f200\">\n",
              "  <button class=\"colab-df-quickchart\" onclick=\"quickchart('df-be0ccc6d-eb84-465c-8a40-bfced9c1f200')\"\n",
              "            title=\"Suggest charts\"\n",
              "            style=\"display:none;\">\n",
              "\n",
              "<svg xmlns=\"http://www.w3.org/2000/svg\" height=\"24px\"viewBox=\"0 0 24 24\"\n",
              "     width=\"24px\">\n",
              "    <g>\n",
              "        <path d=\"M19 3H5c-1.1 0-2 .9-2 2v14c0 1.1.9 2 2 2h14c1.1 0 2-.9 2-2V5c0-1.1-.9-2-2-2zM9 17H7v-7h2v7zm4 0h-2V7h2v10zm4 0h-2v-4h2v4z\"/>\n",
              "    </g>\n",
              "</svg>\n",
              "  </button>\n",
              "\n",
              "<style>\n",
              "  .colab-df-quickchart {\n",
              "      --bg-color: #E8F0FE;\n",
              "      --fill-color: #1967D2;\n",
              "      --hover-bg-color: #E2EBFA;\n",
              "      --hover-fill-color: #174EA6;\n",
              "      --disabled-fill-color: #AAA;\n",
              "      --disabled-bg-color: #DDD;\n",
              "  }\n",
              "\n",
              "  [theme=dark] .colab-df-quickchart {\n",
              "      --bg-color: #3B4455;\n",
              "      --fill-color: #D2E3FC;\n",
              "      --hover-bg-color: #434B5C;\n",
              "      --hover-fill-color: #FFFFFF;\n",
              "      --disabled-bg-color: #3B4455;\n",
              "      --disabled-fill-color: #666;\n",
              "  }\n",
              "\n",
              "  .colab-df-quickchart {\n",
              "    background-color: var(--bg-color);\n",
              "    border: none;\n",
              "    border-radius: 50%;\n",
              "    cursor: pointer;\n",
              "    display: none;\n",
              "    fill: var(--fill-color);\n",
              "    height: 32px;\n",
              "    padding: 0;\n",
              "    width: 32px;\n",
              "  }\n",
              "\n",
              "  .colab-df-quickchart:hover {\n",
              "    background-color: var(--hover-bg-color);\n",
              "    box-shadow: 0 1px 2px rgba(60, 64, 67, 0.3), 0 1px 3px 1px rgba(60, 64, 67, 0.15);\n",
              "    fill: var(--button-hover-fill-color);\n",
              "  }\n",
              "\n",
              "  .colab-df-quickchart-complete:disabled,\n",
              "  .colab-df-quickchart-complete:disabled:hover {\n",
              "    background-color: var(--disabled-bg-color);\n",
              "    fill: var(--disabled-fill-color);\n",
              "    box-shadow: none;\n",
              "  }\n",
              "\n",
              "  .colab-df-spinner {\n",
              "    border: 2px solid var(--fill-color);\n",
              "    border-color: transparent;\n",
              "    border-bottom-color: var(--fill-color);\n",
              "    animation:\n",
              "      spin 1s steps(1) infinite;\n",
              "  }\n",
              "\n",
              "  @keyframes spin {\n",
              "    0% {\n",
              "      border-color: transparent;\n",
              "      border-bottom-color: var(--fill-color);\n",
              "      border-left-color: var(--fill-color);\n",
              "    }\n",
              "    20% {\n",
              "      border-color: transparent;\n",
              "      border-left-color: var(--fill-color);\n",
              "      border-top-color: var(--fill-color);\n",
              "    }\n",
              "    30% {\n",
              "      border-color: transparent;\n",
              "      border-left-color: var(--fill-color);\n",
              "      border-top-color: var(--fill-color);\n",
              "      border-right-color: var(--fill-color);\n",
              "    }\n",
              "    40% {\n",
              "      border-color: transparent;\n",
              "      border-right-color: var(--fill-color);\n",
              "      border-top-color: var(--fill-color);\n",
              "    }\n",
              "    60% {\n",
              "      border-color: transparent;\n",
              "      border-right-color: var(--fill-color);\n",
              "    }\n",
              "    80% {\n",
              "      border-color: transparent;\n",
              "      border-right-color: var(--fill-color);\n",
              "      border-bottom-color: var(--fill-color);\n",
              "    }\n",
              "    90% {\n",
              "      border-color: transparent;\n",
              "      border-bottom-color: var(--fill-color);\n",
              "    }\n",
              "  }\n",
              "</style>\n",
              "\n",
              "  <script>\n",
              "    async function quickchart(key) {\n",
              "      const quickchartButtonEl =\n",
              "        document.querySelector('#' + key + ' button');\n",
              "      quickchartButtonEl.disabled = true;  // To prevent multiple clicks.\n",
              "      quickchartButtonEl.classList.add('colab-df-spinner');\n",
              "      try {\n",
              "        const charts = await google.colab.kernel.invokeFunction(\n",
              "            'suggestCharts', [key], {});\n",
              "      } catch (error) {\n",
              "        console.error('Error during call to suggestCharts:', error);\n",
              "      }\n",
              "      quickchartButtonEl.classList.remove('colab-df-spinner');\n",
              "      quickchartButtonEl.classList.add('colab-df-quickchart-complete');\n",
              "    }\n",
              "    (() => {\n",
              "      let quickchartButtonEl =\n",
              "        document.querySelector('#df-be0ccc6d-eb84-465c-8a40-bfced9c1f200 button');\n",
              "      quickchartButtonEl.style.display =\n",
              "        google.colab.kernel.accessAllowed ? 'block' : 'none';\n",
              "    })();\n",
              "  </script>\n",
              "</div>\n",
              "    </div>\n",
              "  </div>\n"
            ]
          },
          "metadata": {},
          "execution_count": 4
        }
      ]
    },
    {
      "cell_type": "markdown",
      "source": [
        "Следующий шаг - получить общую статистику по числовым столбцам в вашем DataFrame. Это поможет вам понять распределение значений в этих столбцах.\n",
        "\n",
        "Ожидаемый результат: Статистический обзор числовых столбцов, включая среднее, минимум, максимум, стандартное отклонение и квартили."
      ],
      "metadata": {
        "id": "wz8RTi7Uw-z4"
      }
    },
    {
      "cell_type": "code",
      "source": [
        "# место для ответа\n",
        "dia_df.info()"
      ],
      "metadata": {
        "id": "tnT4iHSmw_W-",
        "outputId": "a6408295-e8f6-4786-c18c-9315c82fecf2",
        "colab": {
          "base_uri": "https://localhost:8080/"
        }
      },
      "execution_count": 5,
      "outputs": [
        {
          "output_type": "stream",
          "name": "stdout",
          "text": [
            "<class 'pandas.core.frame.DataFrame'>\n",
            "RangeIndex: 1614 entries, 0 to 1613\n",
            "Data columns (total 9 columns):\n",
            " #   Column               Non-Null Count  Dtype  \n",
            "---  ------               --------------  -----  \n",
            " 0   gender               1614 non-null   object \n",
            " 1   age                  1614 non-null   float64\n",
            " 2   hypertension         1614 non-null   int64  \n",
            " 3   heart_disease        1614 non-null   int64  \n",
            " 4   smoking_history      1614 non-null   object \n",
            " 5   bmi                  1562 non-null   float64\n",
            " 6   HbA1c_level          1566 non-null   float64\n",
            " 7   blood_glucose_level  1614 non-null   int64  \n",
            " 8   diabetes             1614 non-null   int64  \n",
            "dtypes: float64(3), int64(4), object(2)\n",
            "memory usage: 113.6+ KB\n"
          ]
        }
      ]
    },
    {
      "cell_type": "code",
      "source": [
        "dia_df['age'].max()"
      ],
      "metadata": {
        "id": "ho7rig5hRG9I",
        "outputId": "2893e38b-5e29-4633-ea50-9788bbe0146b",
        "colab": {
          "base_uri": "https://localhost:8080/"
        }
      },
      "execution_count": 9,
      "outputs": [
        {
          "output_type": "execute_result",
          "data": {
            "text/plain": [
              "80.0"
            ]
          },
          "metadata": {},
          "execution_count": 9
        }
      ]
    },
    {
      "cell_type": "code",
      "source": [
        "dia_df['age'].min()"
      ],
      "metadata": {
        "id": "kYr9qVG2SPpl",
        "outputId": "127e1fdb-4aa8-45c7-a849-48df93b54a76",
        "colab": {
          "base_uri": "https://localhost:8080/"
        }
      },
      "execution_count": 10,
      "outputs": [
        {
          "output_type": "execute_result",
          "data": {
            "text/plain": [
              "0.16"
            ]
          },
          "metadata": {},
          "execution_count": 10
        }
      ]
    },
    {
      "cell_type": "code",
      "source": [
        "dia_df['hypertension'].mean()"
      ],
      "metadata": {
        "id": "2RBP2ee3SVsO",
        "outputId": "2743a589-361c-4579-886a-c2ae20044006",
        "colab": {
          "base_uri": "https://localhost:8080/"
        }
      },
      "execution_count": 11,
      "outputs": [
        {
          "output_type": "execute_result",
          "data": {
            "text/plain": [
              "0.1325898389095415"
            ]
          },
          "metadata": {},
          "execution_count": 11
        }
      ]
    },
    {
      "cell_type": "code",
      "source": [
        "dia_df['bmi'].std()"
      ],
      "metadata": {
        "id": "63ZKW96TYCRP",
        "outputId": "e4662038-f972-4f70-bb5e-d8948e47a8d4",
        "colab": {
          "base_uri": "https://localhost:8080/"
        }
      },
      "execution_count": 12,
      "outputs": [
        {
          "output_type": "execute_result",
          "data": {
            "text/plain": [
              "7.227397205368918"
            ]
          },
          "metadata": {},
          "execution_count": 12
        }
      ]
    },
    {
      "cell_type": "code",
      "source": [
        "dia_df.corr()"
      ],
      "metadata": {
        "id": "1Yk1iiHcYINX",
        "outputId": "ea40d6e4-a4b4-4d53-9b93-90a5294c862a",
        "colab": {
          "base_uri": "https://localhost:8080/",
          "height": 324
        }
      },
      "execution_count": 14,
      "outputs": [
        {
          "output_type": "stream",
          "name": "stderr",
          "text": [
            "<ipython-input-14-8b04e99c5421>:1: FutureWarning: The default value of numeric_only in DataFrame.corr is deprecated. In a future version, it will default to False. Select only valid columns or specify the value of numeric_only to silence this warning.\n",
            "  dia_df.corr()\n"
          ]
        },
        {
          "output_type": "execute_result",
          "data": {
            "text/plain": [
              "                          age  hypertension  heart_disease       bmi  \\\n",
              "age                  1.000000      0.282600       0.249843  0.294592   \n",
              "hypertension         0.282600      1.000000       0.077227  0.136492   \n",
              "heart_disease        0.249843      0.077227       1.000000  0.062555   \n",
              "bmi                  0.294592      0.136492       0.062555  1.000000   \n",
              "HbA1c_level          0.269093      0.130490       0.113282  0.214718   \n",
              "blood_glucose_level  0.275700      0.125863       0.103309  0.192431   \n",
              "diabetes             0.435705      0.257103       0.221342  0.349538   \n",
              "\n",
              "                     HbA1c_level  blood_glucose_level  diabetes  \n",
              "age                     0.269093             0.275700  0.435705  \n",
              "hypertension            0.130490             0.125863  0.257103  \n",
              "heart_disease           0.113282             0.103309  0.221342  \n",
              "bmi                     0.214718             0.192431  0.349538  \n",
              "HbA1c_level             1.000000             0.342625  0.608499  \n",
              "blood_glucose_level     0.342625             1.000000  0.548185  \n",
              "diabetes                0.608499             0.548185  1.000000  "
            ],
            "text/html": [
              "\n",
              "  <div id=\"df-49bf415e-6583-45fa-86de-1404323f9c2d\" class=\"colab-df-container\">\n",
              "    <div>\n",
              "<style scoped>\n",
              "    .dataframe tbody tr th:only-of-type {\n",
              "        vertical-align: middle;\n",
              "    }\n",
              "\n",
              "    .dataframe tbody tr th {\n",
              "        vertical-align: top;\n",
              "    }\n",
              "\n",
              "    .dataframe thead th {\n",
              "        text-align: right;\n",
              "    }\n",
              "</style>\n",
              "<table border=\"1\" class=\"dataframe\">\n",
              "  <thead>\n",
              "    <tr style=\"text-align: right;\">\n",
              "      <th></th>\n",
              "      <th>age</th>\n",
              "      <th>hypertension</th>\n",
              "      <th>heart_disease</th>\n",
              "      <th>bmi</th>\n",
              "      <th>HbA1c_level</th>\n",
              "      <th>blood_glucose_level</th>\n",
              "      <th>diabetes</th>\n",
              "    </tr>\n",
              "  </thead>\n",
              "  <tbody>\n",
              "    <tr>\n",
              "      <th>age</th>\n",
              "      <td>1.000000</td>\n",
              "      <td>0.282600</td>\n",
              "      <td>0.249843</td>\n",
              "      <td>0.294592</td>\n",
              "      <td>0.269093</td>\n",
              "      <td>0.275700</td>\n",
              "      <td>0.435705</td>\n",
              "    </tr>\n",
              "    <tr>\n",
              "      <th>hypertension</th>\n",
              "      <td>0.282600</td>\n",
              "      <td>1.000000</td>\n",
              "      <td>0.077227</td>\n",
              "      <td>0.136492</td>\n",
              "      <td>0.130490</td>\n",
              "      <td>0.125863</td>\n",
              "      <td>0.257103</td>\n",
              "    </tr>\n",
              "    <tr>\n",
              "      <th>heart_disease</th>\n",
              "      <td>0.249843</td>\n",
              "      <td>0.077227</td>\n",
              "      <td>1.000000</td>\n",
              "      <td>0.062555</td>\n",
              "      <td>0.113282</td>\n",
              "      <td>0.103309</td>\n",
              "      <td>0.221342</td>\n",
              "    </tr>\n",
              "    <tr>\n",
              "      <th>bmi</th>\n",
              "      <td>0.294592</td>\n",
              "      <td>0.136492</td>\n",
              "      <td>0.062555</td>\n",
              "      <td>1.000000</td>\n",
              "      <td>0.214718</td>\n",
              "      <td>0.192431</td>\n",
              "      <td>0.349538</td>\n",
              "    </tr>\n",
              "    <tr>\n",
              "      <th>HbA1c_level</th>\n",
              "      <td>0.269093</td>\n",
              "      <td>0.130490</td>\n",
              "      <td>0.113282</td>\n",
              "      <td>0.214718</td>\n",
              "      <td>1.000000</td>\n",
              "      <td>0.342625</td>\n",
              "      <td>0.608499</td>\n",
              "    </tr>\n",
              "    <tr>\n",
              "      <th>blood_glucose_level</th>\n",
              "      <td>0.275700</td>\n",
              "      <td>0.125863</td>\n",
              "      <td>0.103309</td>\n",
              "      <td>0.192431</td>\n",
              "      <td>0.342625</td>\n",
              "      <td>1.000000</td>\n",
              "      <td>0.548185</td>\n",
              "    </tr>\n",
              "    <tr>\n",
              "      <th>diabetes</th>\n",
              "      <td>0.435705</td>\n",
              "      <td>0.257103</td>\n",
              "      <td>0.221342</td>\n",
              "      <td>0.349538</td>\n",
              "      <td>0.608499</td>\n",
              "      <td>0.548185</td>\n",
              "      <td>1.000000</td>\n",
              "    </tr>\n",
              "  </tbody>\n",
              "</table>\n",
              "</div>\n",
              "    <div class=\"colab-df-buttons\">\n",
              "\n",
              "  <div class=\"colab-df-container\">\n",
              "    <button class=\"colab-df-convert\" onclick=\"convertToInteractive('df-49bf415e-6583-45fa-86de-1404323f9c2d')\"\n",
              "            title=\"Convert this dataframe to an interactive table.\"\n",
              "            style=\"display:none;\">\n",
              "\n",
              "  <svg xmlns=\"http://www.w3.org/2000/svg\" height=\"24px\" viewBox=\"0 -960 960 960\">\n",
              "    <path d=\"M120-120v-720h720v720H120Zm60-500h600v-160H180v160Zm220 220h160v-160H400v160Zm0 220h160v-160H400v160ZM180-400h160v-160H180v160Zm440 0h160v-160H620v160ZM180-180h160v-160H180v160Zm440 0h160v-160H620v160Z\"/>\n",
              "  </svg>\n",
              "    </button>\n",
              "\n",
              "  <style>\n",
              "    .colab-df-container {\n",
              "      display:flex;\n",
              "      gap: 12px;\n",
              "    }\n",
              "\n",
              "    .colab-df-convert {\n",
              "      background-color: #E8F0FE;\n",
              "      border: none;\n",
              "      border-radius: 50%;\n",
              "      cursor: pointer;\n",
              "      display: none;\n",
              "      fill: #1967D2;\n",
              "      height: 32px;\n",
              "      padding: 0 0 0 0;\n",
              "      width: 32px;\n",
              "    }\n",
              "\n",
              "    .colab-df-convert:hover {\n",
              "      background-color: #E2EBFA;\n",
              "      box-shadow: 0px 1px 2px rgba(60, 64, 67, 0.3), 0px 1px 3px 1px rgba(60, 64, 67, 0.15);\n",
              "      fill: #174EA6;\n",
              "    }\n",
              "\n",
              "    .colab-df-buttons div {\n",
              "      margin-bottom: 4px;\n",
              "    }\n",
              "\n",
              "    [theme=dark] .colab-df-convert {\n",
              "      background-color: #3B4455;\n",
              "      fill: #D2E3FC;\n",
              "    }\n",
              "\n",
              "    [theme=dark] .colab-df-convert:hover {\n",
              "      background-color: #434B5C;\n",
              "      box-shadow: 0px 1px 3px 1px rgba(0, 0, 0, 0.15);\n",
              "      filter: drop-shadow(0px 1px 2px rgba(0, 0, 0, 0.3));\n",
              "      fill: #FFFFFF;\n",
              "    }\n",
              "  </style>\n",
              "\n",
              "    <script>\n",
              "      const buttonEl =\n",
              "        document.querySelector('#df-49bf415e-6583-45fa-86de-1404323f9c2d button.colab-df-convert');\n",
              "      buttonEl.style.display =\n",
              "        google.colab.kernel.accessAllowed ? 'block' : 'none';\n",
              "\n",
              "      async function convertToInteractive(key) {\n",
              "        const element = document.querySelector('#df-49bf415e-6583-45fa-86de-1404323f9c2d');\n",
              "        const dataTable =\n",
              "          await google.colab.kernel.invokeFunction('convertToInteractive',\n",
              "                                                    [key], {});\n",
              "        if (!dataTable) return;\n",
              "\n",
              "        const docLinkHtml = 'Like what you see? Visit the ' +\n",
              "          '<a target=\"_blank\" href=https://colab.research.google.com/notebooks/data_table.ipynb>data table notebook</a>'\n",
              "          + ' to learn more about interactive tables.';\n",
              "        element.innerHTML = '';\n",
              "        dataTable['output_type'] = 'display_data';\n",
              "        await google.colab.output.renderOutput(dataTable, element);\n",
              "        const docLink = document.createElement('div');\n",
              "        docLink.innerHTML = docLinkHtml;\n",
              "        element.appendChild(docLink);\n",
              "      }\n",
              "    </script>\n",
              "  </div>\n",
              "\n",
              "\n",
              "<div id=\"df-f7da3ad6-c30e-4daf-816e-8ecaf7ff4e67\">\n",
              "  <button class=\"colab-df-quickchart\" onclick=\"quickchart('df-f7da3ad6-c30e-4daf-816e-8ecaf7ff4e67')\"\n",
              "            title=\"Suggest charts\"\n",
              "            style=\"display:none;\">\n",
              "\n",
              "<svg xmlns=\"http://www.w3.org/2000/svg\" height=\"24px\"viewBox=\"0 0 24 24\"\n",
              "     width=\"24px\">\n",
              "    <g>\n",
              "        <path d=\"M19 3H5c-1.1 0-2 .9-2 2v14c0 1.1.9 2 2 2h14c1.1 0 2-.9 2-2V5c0-1.1-.9-2-2-2zM9 17H7v-7h2v7zm4 0h-2V7h2v10zm4 0h-2v-4h2v4z\"/>\n",
              "    </g>\n",
              "</svg>\n",
              "  </button>\n",
              "\n",
              "<style>\n",
              "  .colab-df-quickchart {\n",
              "      --bg-color: #E8F0FE;\n",
              "      --fill-color: #1967D2;\n",
              "      --hover-bg-color: #E2EBFA;\n",
              "      --hover-fill-color: #174EA6;\n",
              "      --disabled-fill-color: #AAA;\n",
              "      --disabled-bg-color: #DDD;\n",
              "  }\n",
              "\n",
              "  [theme=dark] .colab-df-quickchart {\n",
              "      --bg-color: #3B4455;\n",
              "      --fill-color: #D2E3FC;\n",
              "      --hover-bg-color: #434B5C;\n",
              "      --hover-fill-color: #FFFFFF;\n",
              "      --disabled-bg-color: #3B4455;\n",
              "      --disabled-fill-color: #666;\n",
              "  }\n",
              "\n",
              "  .colab-df-quickchart {\n",
              "    background-color: var(--bg-color);\n",
              "    border: none;\n",
              "    border-radius: 50%;\n",
              "    cursor: pointer;\n",
              "    display: none;\n",
              "    fill: var(--fill-color);\n",
              "    height: 32px;\n",
              "    padding: 0;\n",
              "    width: 32px;\n",
              "  }\n",
              "\n",
              "  .colab-df-quickchart:hover {\n",
              "    background-color: var(--hover-bg-color);\n",
              "    box-shadow: 0 1px 2px rgba(60, 64, 67, 0.3), 0 1px 3px 1px rgba(60, 64, 67, 0.15);\n",
              "    fill: var(--button-hover-fill-color);\n",
              "  }\n",
              "\n",
              "  .colab-df-quickchart-complete:disabled,\n",
              "  .colab-df-quickchart-complete:disabled:hover {\n",
              "    background-color: var(--disabled-bg-color);\n",
              "    fill: var(--disabled-fill-color);\n",
              "    box-shadow: none;\n",
              "  }\n",
              "\n",
              "  .colab-df-spinner {\n",
              "    border: 2px solid var(--fill-color);\n",
              "    border-color: transparent;\n",
              "    border-bottom-color: var(--fill-color);\n",
              "    animation:\n",
              "      spin 1s steps(1) infinite;\n",
              "  }\n",
              "\n",
              "  @keyframes spin {\n",
              "    0% {\n",
              "      border-color: transparent;\n",
              "      border-bottom-color: var(--fill-color);\n",
              "      border-left-color: var(--fill-color);\n",
              "    }\n",
              "    20% {\n",
              "      border-color: transparent;\n",
              "      border-left-color: var(--fill-color);\n",
              "      border-top-color: var(--fill-color);\n",
              "    }\n",
              "    30% {\n",
              "      border-color: transparent;\n",
              "      border-left-color: var(--fill-color);\n",
              "      border-top-color: var(--fill-color);\n",
              "      border-right-color: var(--fill-color);\n",
              "    }\n",
              "    40% {\n",
              "      border-color: transparent;\n",
              "      border-right-color: var(--fill-color);\n",
              "      border-top-color: var(--fill-color);\n",
              "    }\n",
              "    60% {\n",
              "      border-color: transparent;\n",
              "      border-right-color: var(--fill-color);\n",
              "    }\n",
              "    80% {\n",
              "      border-color: transparent;\n",
              "      border-right-color: var(--fill-color);\n",
              "      border-bottom-color: var(--fill-color);\n",
              "    }\n",
              "    90% {\n",
              "      border-color: transparent;\n",
              "      border-bottom-color: var(--fill-color);\n",
              "    }\n",
              "  }\n",
              "</style>\n",
              "\n",
              "  <script>\n",
              "    async function quickchart(key) {\n",
              "      const quickchartButtonEl =\n",
              "        document.querySelector('#' + key + ' button');\n",
              "      quickchartButtonEl.disabled = true;  // To prevent multiple clicks.\n",
              "      quickchartButtonEl.classList.add('colab-df-spinner');\n",
              "      try {\n",
              "        const charts = await google.colab.kernel.invokeFunction(\n",
              "            'suggestCharts', [key], {});\n",
              "      } catch (error) {\n",
              "        console.error('Error during call to suggestCharts:', error);\n",
              "      }\n",
              "      quickchartButtonEl.classList.remove('colab-df-spinner');\n",
              "      quickchartButtonEl.classList.add('colab-df-quickchart-complete');\n",
              "    }\n",
              "    (() => {\n",
              "      let quickchartButtonEl =\n",
              "        document.querySelector('#df-f7da3ad6-c30e-4daf-816e-8ecaf7ff4e67 button');\n",
              "      quickchartButtonEl.style.display =\n",
              "        google.colab.kernel.accessAllowed ? 'block' : 'none';\n",
              "    })();\n",
              "  </script>\n",
              "</div>\n",
              "    </div>\n",
              "  </div>\n"
            ]
          },
          "metadata": {},
          "execution_count": 14
        }
      ]
    },
    {
      "cell_type": "markdown",
      "source": [
        "Получите общую информацию о вашем DataFrame. Это включает количество ненулевых значений и типы данных для каждого столбца. Это поможет вам понять, какие данные вы имеете, и сколько информации доступно.\n",
        "\n",
        "Ожидаемый результат: Общая информация о DataFrame, включая количество ненулевых значений и типы данных для каждого столбца."
      ],
      "metadata": {
        "id": "PCi3XSeDxB4w"
      }
    },
    {
      "cell_type": "code",
      "source": [
        "# место для ответа\n",
        "dia_df.info()"
      ],
      "metadata": {
        "id": "_z5n7SkzxG4B",
        "outputId": "7c5b4121-cde7-4296-eee9-aa94dded8361",
        "colab": {
          "base_uri": "https://localhost:8080/"
        }
      },
      "execution_count": 16,
      "outputs": [
        {
          "output_type": "stream",
          "name": "stdout",
          "text": [
            "<class 'pandas.core.frame.DataFrame'>\n",
            "RangeIndex: 1614 entries, 0 to 1613\n",
            "Data columns (total 9 columns):\n",
            " #   Column               Non-Null Count  Dtype  \n",
            "---  ------               --------------  -----  \n",
            " 0   gender               1614 non-null   object \n",
            " 1   age                  1614 non-null   float64\n",
            " 2   hypertension         1614 non-null   int64  \n",
            " 3   heart_disease        1614 non-null   int64  \n",
            " 4   smoking_history      1614 non-null   object \n",
            " 5   bmi                  1562 non-null   float64\n",
            " 6   HbA1c_level          1566 non-null   float64\n",
            " 7   blood_glucose_level  1614 non-null   int64  \n",
            " 8   diabetes             1614 non-null   int64  \n",
            "dtypes: float64(3), int64(4), object(2)\n",
            "memory usage: 113.6+ KB\n"
          ]
        }
      ]
    },
    {
      "cell_type": "markdown",
      "source": [
        "Найдите количество пропущенных значений в каждом столбце вашего DataFrame. Это важная информация, которую следует знать перед тем, как приступать к дальнейшему анализу данных.\n",
        "\n",
        "Ожидаемый результат: Количество пропущенных значений в каждом столбце."
      ],
      "metadata": {
        "id": "hC97qLVvxG__"
      }
    },
    {
      "cell_type": "code",
      "source": [
        "# место для ответа\n",
        "dia_df.isnull().sum()"
      ],
      "metadata": {
        "id": "xalovEH1xJVD",
        "outputId": "04d61921-32bb-49ca-be37-fcbcaf81e4ac",
        "colab": {
          "base_uri": "https://localhost:8080/"
        }
      },
      "execution_count": 18,
      "outputs": [
        {
          "output_type": "execute_result",
          "data": {
            "text/plain": [
              "gender                  0\n",
              "age                     0\n",
              "hypertension            0\n",
              "heart_disease           0\n",
              "smoking_history         0\n",
              "bmi                    52\n",
              "HbA1c_level            48\n",
              "blood_glucose_level     0\n",
              "diabetes                0\n",
              "dtype: int64"
            ]
          },
          "metadata": {},
          "execution_count": 18
        }
      ]
    },
    {
      "cell_type": "markdown",
      "source": [
        "# Задача 4: Проверка и удаление дубликатов\n",
        "\n",
        "Ваша задача - проверить, есть ли в вашем наборе данных дубликаты строк, и удалить их при необходимости. Дубликаты могут исказить результаты вашего анализа, поскольку они приводят к переоценке некоторых классов или групп."
      ],
      "metadata": {
        "id": "ikP4Ti67x1WN"
      }
    },
    {
      "cell_type": "markdown",
      "source": [
        "Сначала вы должны определить, сколько дубликатов содержится в вашем DataFrame. Используйте функцию `.duplicated().sum()`"
      ],
      "metadata": {
        "id": "AosNGFIwyI9s"
      }
    },
    {
      "cell_type": "code",
      "source": [
        "# место для ответа\n",
        "dia_df.duplicated().sum()"
      ],
      "metadata": {
        "id": "VLzHYrANyJV2",
        "outputId": "2f1a3caa-b387-4ea2-aad3-433cfe85f816",
        "colab": {
          "base_uri": "https://localhost:8080/"
        }
      },
      "execution_count": 19,
      "outputs": [
        {
          "output_type": "execute_result",
          "data": {
            "text/plain": [
              "103"
            ]
          },
          "metadata": {},
          "execution_count": 19
        }
      ]
    },
    {
      "cell_type": "markdown",
      "source": [
        "Если дубликаты найдены, удалите их, и затем проверьте, были ли все дубликаты успешно удалены."
      ],
      "metadata": {
        "id": "qYkS2gDwyKkH"
      }
    },
    {
      "cell_type": "code",
      "source": [
        "# место для ответа\n",
        "dia_df.drop_duplicates(inplace=True, keep=False)"
      ],
      "metadata": {
        "id": "de4Dg17uyT80"
      },
      "execution_count": 20,
      "outputs": []
    },
    {
      "cell_type": "code",
      "source": [
        "dia_df.duplicated().sum()\n"
      ],
      "metadata": {
        "id": "cf9lPS5UZOQL",
        "outputId": "e3249159-66df-4830-e3e7-0e1c1a0fd3ce",
        "colab": {
          "base_uri": "https://localhost:8080/"
        }
      },
      "execution_count": 21,
      "outputs": [
        {
          "output_type": "execute_result",
          "data": {
            "text/plain": [
              "0"
            ]
          },
          "metadata": {},
          "execution_count": 21
        }
      ]
    },
    {
      "cell_type": "markdown",
      "source": [
        "# Задача 5: Импутация пропусков\n",
        "\n",
        "Ваши данные могут содержать пропуски, которые важно корректно обработать перед дальнейшим анализом. Ваша задача - выполнить импутацию пропущенных значений."
      ],
      "metadata": {
        "id": "t5jBIJgiy-gj"
      }
    },
    {
      "cell_type": "markdown",
      "source": [
        "Сначала определите, в каких столбцах есть пропущенные значения, и сколько их.\n",
        "\n",
        "Ожидаемый результат: Список столбцов с пропущенными значениями и количество пропусков в каждом из них."
      ],
      "metadata": {
        "id": "0ghA0oFNzBp2"
      }
    },
    {
      "cell_type": "code",
      "source": [
        "# место для ответа\n",
        "dia_df.isnull()"
      ],
      "metadata": {
        "id": "9wg9YTqlzIWH",
        "outputId": "e31364b9-b05f-40ae-fa1b-72e962f4df82",
        "colab": {
          "base_uri": "https://localhost:8080/",
          "height": 424
        }
      },
      "execution_count": 22,
      "outputs": [
        {
          "output_type": "execute_result",
          "data": {
            "text/plain": [
              "      gender    age  hypertension  heart_disease  smoking_history    bmi  \\\n",
              "0      False  False         False          False            False  False   \n",
              "1      False  False         False          False            False  False   \n",
              "2      False  False         False          False            False  False   \n",
              "3      False  False         False          False            False  False   \n",
              "4      False  False         False          False            False  False   \n",
              "...      ...    ...           ...            ...              ...    ...   \n",
              "1609   False  False         False          False            False  False   \n",
              "1610   False  False         False          False            False  False   \n",
              "1611   False  False         False          False            False  False   \n",
              "1612   False  False         False          False            False  False   \n",
              "1613   False  False         False          False            False  False   \n",
              "\n",
              "      HbA1c_level  blood_glucose_level  diabetes  \n",
              "0           False                False     False  \n",
              "1           False                False     False  \n",
              "2           False                False     False  \n",
              "3           False                False     False  \n",
              "4           False                False     False  \n",
              "...           ...                  ...       ...  \n",
              "1609        False                False     False  \n",
              "1610        False                False     False  \n",
              "1611        False                False     False  \n",
              "1612        False                False     False  \n",
              "1613        False                False     False  \n",
              "\n",
              "[1410 rows x 9 columns]"
            ],
            "text/html": [
              "\n",
              "  <div id=\"df-8d623b51-8991-4625-bafb-4405353a6634\" class=\"colab-df-container\">\n",
              "    <div>\n",
              "<style scoped>\n",
              "    .dataframe tbody tr th:only-of-type {\n",
              "        vertical-align: middle;\n",
              "    }\n",
              "\n",
              "    .dataframe tbody tr th {\n",
              "        vertical-align: top;\n",
              "    }\n",
              "\n",
              "    .dataframe thead th {\n",
              "        text-align: right;\n",
              "    }\n",
              "</style>\n",
              "<table border=\"1\" class=\"dataframe\">\n",
              "  <thead>\n",
              "    <tr style=\"text-align: right;\">\n",
              "      <th></th>\n",
              "      <th>gender</th>\n",
              "      <th>age</th>\n",
              "      <th>hypertension</th>\n",
              "      <th>heart_disease</th>\n",
              "      <th>smoking_history</th>\n",
              "      <th>bmi</th>\n",
              "      <th>HbA1c_level</th>\n",
              "      <th>blood_glucose_level</th>\n",
              "      <th>diabetes</th>\n",
              "    </tr>\n",
              "  </thead>\n",
              "  <tbody>\n",
              "    <tr>\n",
              "      <th>0</th>\n",
              "      <td>False</td>\n",
              "      <td>False</td>\n",
              "      <td>False</td>\n",
              "      <td>False</td>\n",
              "      <td>False</td>\n",
              "      <td>False</td>\n",
              "      <td>False</td>\n",
              "      <td>False</td>\n",
              "      <td>False</td>\n",
              "    </tr>\n",
              "    <tr>\n",
              "      <th>1</th>\n",
              "      <td>False</td>\n",
              "      <td>False</td>\n",
              "      <td>False</td>\n",
              "      <td>False</td>\n",
              "      <td>False</td>\n",
              "      <td>False</td>\n",
              "      <td>False</td>\n",
              "      <td>False</td>\n",
              "      <td>False</td>\n",
              "    </tr>\n",
              "    <tr>\n",
              "      <th>2</th>\n",
              "      <td>False</td>\n",
              "      <td>False</td>\n",
              "      <td>False</td>\n",
              "      <td>False</td>\n",
              "      <td>False</td>\n",
              "      <td>False</td>\n",
              "      <td>False</td>\n",
              "      <td>False</td>\n",
              "      <td>False</td>\n",
              "    </tr>\n",
              "    <tr>\n",
              "      <th>3</th>\n",
              "      <td>False</td>\n",
              "      <td>False</td>\n",
              "      <td>False</td>\n",
              "      <td>False</td>\n",
              "      <td>False</td>\n",
              "      <td>False</td>\n",
              "      <td>False</td>\n",
              "      <td>False</td>\n",
              "      <td>False</td>\n",
              "    </tr>\n",
              "    <tr>\n",
              "      <th>4</th>\n",
              "      <td>False</td>\n",
              "      <td>False</td>\n",
              "      <td>False</td>\n",
              "      <td>False</td>\n",
              "      <td>False</td>\n",
              "      <td>False</td>\n",
              "      <td>False</td>\n",
              "      <td>False</td>\n",
              "      <td>False</td>\n",
              "    </tr>\n",
              "    <tr>\n",
              "      <th>...</th>\n",
              "      <td>...</td>\n",
              "      <td>...</td>\n",
              "      <td>...</td>\n",
              "      <td>...</td>\n",
              "      <td>...</td>\n",
              "      <td>...</td>\n",
              "      <td>...</td>\n",
              "      <td>...</td>\n",
              "      <td>...</td>\n",
              "    </tr>\n",
              "    <tr>\n",
              "      <th>1609</th>\n",
              "      <td>False</td>\n",
              "      <td>False</td>\n",
              "      <td>False</td>\n",
              "      <td>False</td>\n",
              "      <td>False</td>\n",
              "      <td>False</td>\n",
              "      <td>False</td>\n",
              "      <td>False</td>\n",
              "      <td>False</td>\n",
              "    </tr>\n",
              "    <tr>\n",
              "      <th>1610</th>\n",
              "      <td>False</td>\n",
              "      <td>False</td>\n",
              "      <td>False</td>\n",
              "      <td>False</td>\n",
              "      <td>False</td>\n",
              "      <td>False</td>\n",
              "      <td>False</td>\n",
              "      <td>False</td>\n",
              "      <td>False</td>\n",
              "    </tr>\n",
              "    <tr>\n",
              "      <th>1611</th>\n",
              "      <td>False</td>\n",
              "      <td>False</td>\n",
              "      <td>False</td>\n",
              "      <td>False</td>\n",
              "      <td>False</td>\n",
              "      <td>False</td>\n",
              "      <td>False</td>\n",
              "      <td>False</td>\n",
              "      <td>False</td>\n",
              "    </tr>\n",
              "    <tr>\n",
              "      <th>1612</th>\n",
              "      <td>False</td>\n",
              "      <td>False</td>\n",
              "      <td>False</td>\n",
              "      <td>False</td>\n",
              "      <td>False</td>\n",
              "      <td>False</td>\n",
              "      <td>False</td>\n",
              "      <td>False</td>\n",
              "      <td>False</td>\n",
              "    </tr>\n",
              "    <tr>\n",
              "      <th>1613</th>\n",
              "      <td>False</td>\n",
              "      <td>False</td>\n",
              "      <td>False</td>\n",
              "      <td>False</td>\n",
              "      <td>False</td>\n",
              "      <td>False</td>\n",
              "      <td>False</td>\n",
              "      <td>False</td>\n",
              "      <td>False</td>\n",
              "    </tr>\n",
              "  </tbody>\n",
              "</table>\n",
              "<p>1410 rows × 9 columns</p>\n",
              "</div>\n",
              "    <div class=\"colab-df-buttons\">\n",
              "\n",
              "  <div class=\"colab-df-container\">\n",
              "    <button class=\"colab-df-convert\" onclick=\"convertToInteractive('df-8d623b51-8991-4625-bafb-4405353a6634')\"\n",
              "            title=\"Convert this dataframe to an interactive table.\"\n",
              "            style=\"display:none;\">\n",
              "\n",
              "  <svg xmlns=\"http://www.w3.org/2000/svg\" height=\"24px\" viewBox=\"0 -960 960 960\">\n",
              "    <path d=\"M120-120v-720h720v720H120Zm60-500h600v-160H180v160Zm220 220h160v-160H400v160Zm0 220h160v-160H400v160ZM180-400h160v-160H180v160Zm440 0h160v-160H620v160ZM180-180h160v-160H180v160Zm440 0h160v-160H620v160Z\"/>\n",
              "  </svg>\n",
              "    </button>\n",
              "\n",
              "  <style>\n",
              "    .colab-df-container {\n",
              "      display:flex;\n",
              "      gap: 12px;\n",
              "    }\n",
              "\n",
              "    .colab-df-convert {\n",
              "      background-color: #E8F0FE;\n",
              "      border: none;\n",
              "      border-radius: 50%;\n",
              "      cursor: pointer;\n",
              "      display: none;\n",
              "      fill: #1967D2;\n",
              "      height: 32px;\n",
              "      padding: 0 0 0 0;\n",
              "      width: 32px;\n",
              "    }\n",
              "\n",
              "    .colab-df-convert:hover {\n",
              "      background-color: #E2EBFA;\n",
              "      box-shadow: 0px 1px 2px rgba(60, 64, 67, 0.3), 0px 1px 3px 1px rgba(60, 64, 67, 0.15);\n",
              "      fill: #174EA6;\n",
              "    }\n",
              "\n",
              "    .colab-df-buttons div {\n",
              "      margin-bottom: 4px;\n",
              "    }\n",
              "\n",
              "    [theme=dark] .colab-df-convert {\n",
              "      background-color: #3B4455;\n",
              "      fill: #D2E3FC;\n",
              "    }\n",
              "\n",
              "    [theme=dark] .colab-df-convert:hover {\n",
              "      background-color: #434B5C;\n",
              "      box-shadow: 0px 1px 3px 1px rgba(0, 0, 0, 0.15);\n",
              "      filter: drop-shadow(0px 1px 2px rgba(0, 0, 0, 0.3));\n",
              "      fill: #FFFFFF;\n",
              "    }\n",
              "  </style>\n",
              "\n",
              "    <script>\n",
              "      const buttonEl =\n",
              "        document.querySelector('#df-8d623b51-8991-4625-bafb-4405353a6634 button.colab-df-convert');\n",
              "      buttonEl.style.display =\n",
              "        google.colab.kernel.accessAllowed ? 'block' : 'none';\n",
              "\n",
              "      async function convertToInteractive(key) {\n",
              "        const element = document.querySelector('#df-8d623b51-8991-4625-bafb-4405353a6634');\n",
              "        const dataTable =\n",
              "          await google.colab.kernel.invokeFunction('convertToInteractive',\n",
              "                                                    [key], {});\n",
              "        if (!dataTable) return;\n",
              "\n",
              "        const docLinkHtml = 'Like what you see? Visit the ' +\n",
              "          '<a target=\"_blank\" href=https://colab.research.google.com/notebooks/data_table.ipynb>data table notebook</a>'\n",
              "          + ' to learn more about interactive tables.';\n",
              "        element.innerHTML = '';\n",
              "        dataTable['output_type'] = 'display_data';\n",
              "        await google.colab.output.renderOutput(dataTable, element);\n",
              "        const docLink = document.createElement('div');\n",
              "        docLink.innerHTML = docLinkHtml;\n",
              "        element.appendChild(docLink);\n",
              "      }\n",
              "    </script>\n",
              "  </div>\n",
              "\n",
              "\n",
              "<div id=\"df-7322b9ad-3229-43ab-80c1-ce22140a1c7c\">\n",
              "  <button class=\"colab-df-quickchart\" onclick=\"quickchart('df-7322b9ad-3229-43ab-80c1-ce22140a1c7c')\"\n",
              "            title=\"Suggest charts\"\n",
              "            style=\"display:none;\">\n",
              "\n",
              "<svg xmlns=\"http://www.w3.org/2000/svg\" height=\"24px\"viewBox=\"0 0 24 24\"\n",
              "     width=\"24px\">\n",
              "    <g>\n",
              "        <path d=\"M19 3H5c-1.1 0-2 .9-2 2v14c0 1.1.9 2 2 2h14c1.1 0 2-.9 2-2V5c0-1.1-.9-2-2-2zM9 17H7v-7h2v7zm4 0h-2V7h2v10zm4 0h-2v-4h2v4z\"/>\n",
              "    </g>\n",
              "</svg>\n",
              "  </button>\n",
              "\n",
              "<style>\n",
              "  .colab-df-quickchart {\n",
              "      --bg-color: #E8F0FE;\n",
              "      --fill-color: #1967D2;\n",
              "      --hover-bg-color: #E2EBFA;\n",
              "      --hover-fill-color: #174EA6;\n",
              "      --disabled-fill-color: #AAA;\n",
              "      --disabled-bg-color: #DDD;\n",
              "  }\n",
              "\n",
              "  [theme=dark] .colab-df-quickchart {\n",
              "      --bg-color: #3B4455;\n",
              "      --fill-color: #D2E3FC;\n",
              "      --hover-bg-color: #434B5C;\n",
              "      --hover-fill-color: #FFFFFF;\n",
              "      --disabled-bg-color: #3B4455;\n",
              "      --disabled-fill-color: #666;\n",
              "  }\n",
              "\n",
              "  .colab-df-quickchart {\n",
              "    background-color: var(--bg-color);\n",
              "    border: none;\n",
              "    border-radius: 50%;\n",
              "    cursor: pointer;\n",
              "    display: none;\n",
              "    fill: var(--fill-color);\n",
              "    height: 32px;\n",
              "    padding: 0;\n",
              "    width: 32px;\n",
              "  }\n",
              "\n",
              "  .colab-df-quickchart:hover {\n",
              "    background-color: var(--hover-bg-color);\n",
              "    box-shadow: 0 1px 2px rgba(60, 64, 67, 0.3), 0 1px 3px 1px rgba(60, 64, 67, 0.15);\n",
              "    fill: var(--button-hover-fill-color);\n",
              "  }\n",
              "\n",
              "  .colab-df-quickchart-complete:disabled,\n",
              "  .colab-df-quickchart-complete:disabled:hover {\n",
              "    background-color: var(--disabled-bg-color);\n",
              "    fill: var(--disabled-fill-color);\n",
              "    box-shadow: none;\n",
              "  }\n",
              "\n",
              "  .colab-df-spinner {\n",
              "    border: 2px solid var(--fill-color);\n",
              "    border-color: transparent;\n",
              "    border-bottom-color: var(--fill-color);\n",
              "    animation:\n",
              "      spin 1s steps(1) infinite;\n",
              "  }\n",
              "\n",
              "  @keyframes spin {\n",
              "    0% {\n",
              "      border-color: transparent;\n",
              "      border-bottom-color: var(--fill-color);\n",
              "      border-left-color: var(--fill-color);\n",
              "    }\n",
              "    20% {\n",
              "      border-color: transparent;\n",
              "      border-left-color: var(--fill-color);\n",
              "      border-top-color: var(--fill-color);\n",
              "    }\n",
              "    30% {\n",
              "      border-color: transparent;\n",
              "      border-left-color: var(--fill-color);\n",
              "      border-top-color: var(--fill-color);\n",
              "      border-right-color: var(--fill-color);\n",
              "    }\n",
              "    40% {\n",
              "      border-color: transparent;\n",
              "      border-right-color: var(--fill-color);\n",
              "      border-top-color: var(--fill-color);\n",
              "    }\n",
              "    60% {\n",
              "      border-color: transparent;\n",
              "      border-right-color: var(--fill-color);\n",
              "    }\n",
              "    80% {\n",
              "      border-color: transparent;\n",
              "      border-right-color: var(--fill-color);\n",
              "      border-bottom-color: var(--fill-color);\n",
              "    }\n",
              "    90% {\n",
              "      border-color: transparent;\n",
              "      border-bottom-color: var(--fill-color);\n",
              "    }\n",
              "  }\n",
              "</style>\n",
              "\n",
              "  <script>\n",
              "    async function quickchart(key) {\n",
              "      const quickchartButtonEl =\n",
              "        document.querySelector('#' + key + ' button');\n",
              "      quickchartButtonEl.disabled = true;  // To prevent multiple clicks.\n",
              "      quickchartButtonEl.classList.add('colab-df-spinner');\n",
              "      try {\n",
              "        const charts = await google.colab.kernel.invokeFunction(\n",
              "            'suggestCharts', [key], {});\n",
              "      } catch (error) {\n",
              "        console.error('Error during call to suggestCharts:', error);\n",
              "      }\n",
              "      quickchartButtonEl.classList.remove('colab-df-spinner');\n",
              "      quickchartButtonEl.classList.add('colab-df-quickchart-complete');\n",
              "    }\n",
              "    (() => {\n",
              "      let quickchartButtonEl =\n",
              "        document.querySelector('#df-7322b9ad-3229-43ab-80c1-ce22140a1c7c button');\n",
              "      quickchartButtonEl.style.display =\n",
              "        google.colab.kernel.accessAllowed ? 'block' : 'none';\n",
              "    })();\n",
              "  </script>\n",
              "</div>\n",
              "    </div>\n",
              "  </div>\n"
            ]
          },
          "metadata": {},
          "execution_count": 22
        }
      ]
    },
    {
      "cell_type": "code",
      "source": [
        "dia_df.isnull().sum()"
      ],
      "metadata": {
        "id": "aaJhUJv7abwQ",
        "outputId": "7d68b4d3-fd37-4fa9-f7a9-3b0e0fdc2b59",
        "colab": {
          "base_uri": "https://localhost:8080/"
        }
      },
      "execution_count": 23,
      "outputs": [
        {
          "output_type": "execute_result",
          "data": {
            "text/plain": [
              "gender                  0\n",
              "age                     0\n",
              "hypertension            0\n",
              "heart_disease           0\n",
              "smoking_history         0\n",
              "bmi                    52\n",
              "HbA1c_level            48\n",
              "blood_glucose_level     0\n",
              "diabetes                0\n",
              "dtype: int64"
            ]
          },
          "metadata": {},
          "execution_count": 23
        }
      ]
    },
    {
      "cell_type": "markdown",
      "source": [
        "Решите, какой метод импутации наиболее подходит для каждого столбца с пропусками. Ваш выбор может зависеть от типа данных (категориальные или числовые) и распределения данных. Можно использовать общее среднее значение или самое распространенное значение для всех пропущенных данных.\n",
        "\n",
        "Примените выбранные методы импутации к пропущенным значениям и подтвердите, что все пропуски были заполнены.\n",
        "\n",
        "Ожидаемый результат: DataFrame без пропущенных значений. Подтверждение того, что все пропущенные значения были заполнены.\n",
        "\n"
      ],
      "metadata": {
        "id": "Pz0YQ8D0zMno"
      }
    },
    {
      "cell_type": "code",
      "source": [
        "# место для ответа\n",
        "bmi = dia_df['bmi']\n",
        "bmi"
      ],
      "metadata": {
        "id": "Xh3-9nQJzeTb",
        "outputId": "11a0852c-8942-4951-f862-16a65d9f2983",
        "colab": {
          "base_uri": "https://localhost:8080/"
        }
      },
      "execution_count": 24,
      "outputs": [
        {
          "output_type": "execute_result",
          "data": {
            "text/plain": [
              "0       15.43\n",
              "1       27.32\n",
              "2       26.60\n",
              "3       33.13\n",
              "4       27.32\n",
              "        ...  \n",
              "1609    26.63\n",
              "1610    34.35\n",
              "1611    30.80\n",
              "1612    62.80\n",
              "1613    20.97\n",
              "Name: bmi, Length: 1410, dtype: float64"
            ]
          },
          "metadata": {},
          "execution_count": 24
        }
      ]
    },
    {
      "cell_type": "code",
      "source": [
        "bmi_m = dia_df.query(\"gender=='Male'\")['bmi']\n",
        "bmi_m"
      ],
      "metadata": {
        "id": "xmcMEW8za0P3",
        "outputId": "947a0b6b-d5de-4005-93cb-cef597548d61",
        "colab": {
          "base_uri": "https://localhost:8080/"
        }
      },
      "execution_count": 29,
      "outputs": [
        {
          "output_type": "execute_result",
          "data": {
            "text/plain": [
              "1       27.32\n",
              "2       26.60\n",
              "3       33.13\n",
              "4       27.32\n",
              "6       29.14\n",
              "        ...  \n",
              "1598    37.10\n",
              "1603    27.32\n",
              "1606    29.77\n",
              "1607    33.72\n",
              "1613    20.97\n",
              "Name: bmi, Length: 603, dtype: float64"
            ]
          },
          "metadata": {},
          "execution_count": 29
        }
      ]
    },
    {
      "cell_type": "code",
      "source": [
        "bmi_w = dia_df.query(\"gender=='Female'\")['bmi']\n",
        "bmi_w"
      ],
      "metadata": {
        "id": "OZKzNrF5gbxe",
        "outputId": "abf7cd36-f827-4675-e219-783a505eb717",
        "colab": {
          "base_uri": "https://localhost:8080/"
        }
      },
      "execution_count": 30,
      "outputs": [
        {
          "output_type": "execute_result",
          "data": {
            "text/plain": [
              "0       15.43\n",
              "5       19.00\n",
              "10      32.43\n",
              "13      27.32\n",
              "14      24.15\n",
              "        ...  \n",
              "1608    36.04\n",
              "1609    26.63\n",
              "1610    34.35\n",
              "1611    30.80\n",
              "1612    62.80\n",
              "Name: bmi, Length: 807, dtype: float64"
            ]
          },
          "metadata": {},
          "execution_count": 30
        }
      ]
    },
    {
      "cell_type": "code",
      "source": [
        "bmi_m_mean = bmi_m.mean()\n",
        "bmi_m_mean"
      ],
      "metadata": {
        "id": "5-AtBOMViT_U",
        "outputId": "3ff3fb5c-88cc-4437-f4f8-304d3cd7fb98",
        "colab": {
          "base_uri": "https://localhost:8080/"
        }
      },
      "execution_count": 31,
      "outputs": [
        {
          "output_type": "execute_result",
          "data": {
            "text/plain": [
              "28.85113402061856"
            ]
          },
          "metadata": {},
          "execution_count": 31
        }
      ]
    },
    {
      "cell_type": "code",
      "source": [
        "bmi_w_mean = bmi_w.mean()\n",
        "bmi_w_mean"
      ],
      "metadata": {
        "id": "1kV2ma7DnGok",
        "outputId": "6c8f4eeb-9a49-44f5-8c3f-95fd0ef0f115",
        "colab": {
          "base_uri": "https://localhost:8080/"
        }
      },
      "execution_count": 32,
      "outputs": [
        {
          "output_type": "execute_result",
          "data": {
            "text/plain": [
              "29.073595360824743"
            ]
          },
          "metadata": {},
          "execution_count": 32
        }
      ]
    },
    {
      "cell_type": "code",
      "source": [
        "mask = dia_df['gender'] == 'Male' & dia_df['bmi'].isna()\n",
        "dia_df.assign(\n",
        "    dia_df['bmi'] = dia_df['bmi'].mask(mask,other=0)\n",
        ")"
      ],
      "metadata": {
        "id": "9v6uXOfoAqav"
      },
      "execution_count": null,
      "outputs": []
    },
    {
      "cell_type": "code",
      "source": [
        "dia_df['bmi'] = dia_df.fillna(\n",
        "    lambda row: bmi_m_mean if dia_df['gender'] == 'Male' else bmi_w_mean\n",
        ")"
      ],
      "metadata": {
        "id": "1zXVR1OMifIA",
        "outputId": "53797cf1-54ec-4819-a2f1-701ec4596f4e",
        "colab": {
          "base_uri": "https://localhost:8080/",
          "height": 355
        }
      },
      "execution_count": 36,
      "outputs": [
        {
          "output_type": "error",
          "ename": "ValueError",
          "evalue": "ignored",
          "traceback": [
            "\u001b[0;31m---------------------------------------------------------------------------\u001b[0m",
            "\u001b[0;31mValueError\u001b[0m                                Traceback (most recent call last)",
            "\u001b[0;32m<ipython-input-36-94394f8a80ca>\u001b[0m in \u001b[0;36m<cell line: 1>\u001b[0;34m()\u001b[0m\n\u001b[0;32m----> 1\u001b[0;31m dia_df['bmi'] = dia_df.fillna(\n\u001b[0m\u001b[1;32m      2\u001b[0m     \u001b[0;32mlambda\u001b[0m \u001b[0mrow\u001b[0m\u001b[0;34m:\u001b[0m \u001b[0mbmi_m_mean\u001b[0m \u001b[0;32mif\u001b[0m \u001b[0mdia_df\u001b[0m\u001b[0;34m[\u001b[0m\u001b[0;34m'gender'\u001b[0m\u001b[0;34m]\u001b[0m \u001b[0;34m==\u001b[0m \u001b[0;34m'Male'\u001b[0m \u001b[0;32melse\u001b[0m \u001b[0mbmi_w_mean\u001b[0m\u001b[0;34m\u001b[0m\u001b[0;34m\u001b[0m\u001b[0m\n\u001b[1;32m      3\u001b[0m )\n",
            "\u001b[0;32m/usr/local/lib/python3.10/dist-packages/pandas/core/frame.py\u001b[0m in \u001b[0;36m__setitem__\u001b[0;34m(self, key, value)\u001b[0m\n\u001b[1;32m   3968\u001b[0m             \u001b[0mself\u001b[0m\u001b[0;34m.\u001b[0m\u001b[0m_setitem_array\u001b[0m\u001b[0;34m(\u001b[0m\u001b[0mkey\u001b[0m\u001b[0;34m,\u001b[0m \u001b[0mvalue\u001b[0m\u001b[0;34m)\u001b[0m\u001b[0;34m\u001b[0m\u001b[0;34m\u001b[0m\u001b[0m\n\u001b[1;32m   3969\u001b[0m         \u001b[0;32melif\u001b[0m \u001b[0misinstance\u001b[0m\u001b[0;34m(\u001b[0m\u001b[0mvalue\u001b[0m\u001b[0;34m,\u001b[0m \u001b[0mDataFrame\u001b[0m\u001b[0;34m)\u001b[0m\u001b[0;34m:\u001b[0m\u001b[0;34m\u001b[0m\u001b[0;34m\u001b[0m\u001b[0m\n\u001b[0;32m-> 3970\u001b[0;31m             \u001b[0mself\u001b[0m\u001b[0;34m.\u001b[0m\u001b[0m_set_item_frame_value\u001b[0m\u001b[0;34m(\u001b[0m\u001b[0mkey\u001b[0m\u001b[0;34m,\u001b[0m \u001b[0mvalue\u001b[0m\u001b[0;34m)\u001b[0m\u001b[0;34m\u001b[0m\u001b[0;34m\u001b[0m\u001b[0m\n\u001b[0m\u001b[1;32m   3971\u001b[0m         elif (\n\u001b[1;32m   3972\u001b[0m             \u001b[0mis_list_like\u001b[0m\u001b[0;34m(\u001b[0m\u001b[0mvalue\u001b[0m\u001b[0;34m)\u001b[0m\u001b[0;34m\u001b[0m\u001b[0;34m\u001b[0m\u001b[0m\n",
            "\u001b[0;32m/usr/local/lib/python3.10/dist-packages/pandas/core/frame.py\u001b[0m in \u001b[0;36m_set_item_frame_value\u001b[0;34m(self, key, value)\u001b[0m\n\u001b[1;32m   4098\u001b[0m             \u001b[0mlen_cols\u001b[0m \u001b[0;34m=\u001b[0m \u001b[0;36m1\u001b[0m \u001b[0;32mif\u001b[0m \u001b[0mis_scalar\u001b[0m\u001b[0;34m(\u001b[0m\u001b[0mcols\u001b[0m\u001b[0;34m)\u001b[0m \u001b[0;32melse\u001b[0m \u001b[0mlen\u001b[0m\u001b[0;34m(\u001b[0m\u001b[0mcols\u001b[0m\u001b[0;34m)\u001b[0m\u001b[0;34m\u001b[0m\u001b[0;34m\u001b[0m\u001b[0m\n\u001b[1;32m   4099\u001b[0m             \u001b[0;32mif\u001b[0m \u001b[0mlen_cols\u001b[0m \u001b[0;34m!=\u001b[0m \u001b[0mlen\u001b[0m\u001b[0;34m(\u001b[0m\u001b[0mvalue\u001b[0m\u001b[0;34m.\u001b[0m\u001b[0mcolumns\u001b[0m\u001b[0;34m)\u001b[0m\u001b[0;34m:\u001b[0m\u001b[0;34m\u001b[0m\u001b[0;34m\u001b[0m\u001b[0m\n\u001b[0;32m-> 4100\u001b[0;31m                 \u001b[0;32mraise\u001b[0m \u001b[0mValueError\u001b[0m\u001b[0;34m(\u001b[0m\u001b[0;34m\"Columns must be same length as key\"\u001b[0m\u001b[0;34m)\u001b[0m\u001b[0;34m\u001b[0m\u001b[0;34m\u001b[0m\u001b[0m\n\u001b[0m\u001b[1;32m   4101\u001b[0m \u001b[0;34m\u001b[0m\u001b[0m\n\u001b[1;32m   4102\u001b[0m             \u001b[0;31m# align right-hand-side columns if self.columns\u001b[0m\u001b[0;34m\u001b[0m\u001b[0;34m\u001b[0m\u001b[0m\n",
            "\u001b[0;31mValueError\u001b[0m: Columns must be same length as key"
          ]
        }
      ]
    },
    {
      "cell_type": "markdown",
      "source": [
        "# **Бонусное задание:** Усложнённая импутация пропусков\n",
        "\n",
        "Если вы готовы пойти дальше, примените более сложный подход к импутации. Вместо того, чтобы использовать общее среднее значение или самое распространенное значение для всех пропущенных данных, попробуйте выполнить импутацию, основываясь на гендере человека. Это может быть более точным подходом, так как распределение некоторых признаков может отличаться в зависимости от гендера.\n",
        "\n",
        "1. Изучите распределение значений в столбцах с пропусками для мужчин и женщин отдельно.\n",
        "\n",
        "2. Основываясь на этом анализе, примените подходящий метод импутации для каждого пола.\n",
        "\n",
        "3. Подтвердите, что все пропуски были заполнены.\n",
        "\n",
        "Ожидаемый результат: DataFrame без пропущенных значений. Подтверждение того, что все пропущенные значения были заполнены с учетом пола пациентов.\n"
      ],
      "metadata": {
        "id": "rpr43fIvzhVJ"
      }
    },
    {
      "cell_type": "code",
      "source": [
        "# место для ответа\n"
      ],
      "metadata": {
        "id": "PqSN0ME9zwTa"
      },
      "execution_count": null,
      "outputs": []
    },
    {
      "cell_type": "markdown",
      "source": [
        "# Задача 6: Переименование столбца\n",
        "\n",
        "Иногда имена столбцов в наборе данных могут быть неинформативными, слишком длинными или сложными для восприятия. Ваша задача - переименовать один из столбцов для более простого и ясного понимания его содержания.\n",
        "\n",
        "1. Выберите столбец, который, по вашему мнению, следует переименовать. Подумайте, какое имя было бы более подходящим для него.\n",
        "\n",
        "2. Примените переименование к выбранному столбцу.\n",
        "\n",
        "3. Подтвердите, что изменения были успешно применены, отображая список столбцов после переименования.\n",
        "\n",
        "Ожидаемый результат: DataFrame с переименованным столбцом. Подтверждение того, что имя столбца было успешно изменено."
      ],
      "metadata": {
        "id": "mE857su00W_o"
      }
    },
    {
      "cell_type": "code",
      "source": [
        "# место для ответа\n"
      ],
      "metadata": {
        "id": "BkonXqCq0caS"
      },
      "execution_count": null,
      "outputs": []
    },
    {
      "cell_type": "markdown",
      "source": [
        "# Задача 7: Анализ категориальных данных с помощью value_counts()\n",
        "\n",
        "Категориальные данные играют важную роль в многих наборах данных. Для лучшего понимания распределения этих данных можно использовать функцию value_counts(). Ваша задача - провести такой анализ.\n",
        "\n",
        "1. Выберите категориальный столбец в вашем DataFrame для анализа.\n",
        "\n",
        "2. Используйте функцию для подсчета уникальных значений в выбранном столбце.\n",
        "\n",
        "3. Проанализируйте полученные результаты. Какие значения наиболее распространены? Существуют ли значения, которые появляются редко?\n",
        "\n",
        "Ожидаемый результат: Распределение уникальных значений выбранного категориального столбца. Анализ наиболее и наименее распространенных значений."
      ],
      "metadata": {
        "id": "Zp9GqIy11Amp"
      }
    },
    {
      "cell_type": "code",
      "source": [
        "# место для ответа\n"
      ],
      "metadata": {
        "id": "y4-S2U-S1HoV"
      },
      "execution_count": null,
      "outputs": []
    },
    {
      "cell_type": "markdown",
      "source": [
        "# Задача 8: Анализ корреляции между столбцами\n",
        "\n",
        "Анализ связи между различными столбцами в наборе данных может дать важные инсайты и помочь в понимании структуры данных. Ваша задача - вычислить корреляцию между столбцами.\n",
        "\n",
        "Ожидаемый результат: Матрица корреляции для столбцов в DataFrame. Анализ сильно коррелирующих и слабо коррелирующих столбцов."
      ],
      "metadata": {
        "id": "MKBQr8my1q1u"
      }
    },
    {
      "cell_type": "code",
      "source": [
        "# место для ответа\n"
      ],
      "metadata": {
        "id": "OeofmwzZ1814"
      },
      "execution_count": null,
      "outputs": []
    },
    {
      "cell_type": "markdown",
      "source": [
        "# Бонусное задание: Визуализация матрицы корреляции\n",
        "\n",
        "Если вы готовы пойти дальше и графически представить свои результаты, воспользуйтесь библиотекой `seaborn` для визуализации матрицы корреляции.\n",
        "\n",
        "1. Создайте визуализацию матрицы корреляции с использованием подходящего типа графика в `seaborn`. Выберите подходящую цветовую палитру для своей визуализации.\n",
        "\n",
        "2. Проанализируйте полученный график. Ваши выводы соответствуют ли результатам численного анализа корреляции?\n",
        "\n",
        "Ожидаемый результат: График, отображающий матрицу корреляции столбцов в DataFrame. Анализ полученной визуализации."
      ],
      "metadata": {
        "id": "Ym4ywczY2BEN"
      }
    },
    {
      "cell_type": "code",
      "source": [
        "# место для ответа\n"
      ],
      "metadata": {
        "id": "GGUa3KYy2FiI"
      },
      "execution_count": null,
      "outputs": []
    },
    {
      "cell_type": "markdown",
      "source": [
        "# Задача 9: Использование .loc и .iloc\n",
        "\n",
        "В pandas функции `.loc` и `.iloc` позволяют извлекать данные по метке или по числовому индексу. Ваша задача - попрактиковаться в использовании этих функций.\n",
        "\n",
        "1. Используйте функцию `.loc` для извлечения данных по метке. Выберите интересующий вас столбец или набор столбцов и определенные строки.\n",
        "\n",
        "2. Теперь используйте функцию `.iloc` для извлечения данных по числовому индексу. Выберите интересующий вас диапазон строк и столбцов.\n",
        "\n",
        "3. Сравните результаты извлечения данных двумя разными методами. Что изменяется, когда вы используете `.loc` вместо `.iloc` и наоборот?\n",
        "\n",
        "Ожидаемый результат: Извлеченные данные с использованием `.loc` и `.iloc`. Анализ различий между двумя методами извлечения данных."
      ],
      "metadata": {
        "id": "71sGTx4FytKC"
      }
    },
    {
      "cell_type": "code",
      "source": [
        "# место для ответа\n"
      ],
      "metadata": {
        "id": "I8RC2nHh2AjD"
      },
      "execution_count": null,
      "outputs": []
    },
    {
      "cell_type": "markdown",
      "source": [
        "# Задача 10: Выборка данных по условию\n",
        "\n",
        "Выборка данных по определенному условию - это общая практика при анализе данных. Ваша задача - выполнить выборку данных по заданным условиям.\n",
        "\n",
        "1. Выберите строки, где значение в столбце 'age' превышает 50.\n",
        "Ожидаемый результат: DataFrame, содержащий только строки, в которых значение 'age' больше 50.\n"
      ],
      "metadata": {
        "id": "1GUy5PQ1y7_f"
      }
    },
    {
      "cell_type": "code",
      "source": [
        "# место для ответа\n"
      ],
      "metadata": {
        "id": "Qu2MQrHCzeXd"
      },
      "execution_count": null,
      "outputs": []
    },
    {
      "cell_type": "markdown",
      "source": [
        "2. Выберите строки, где значение 'smoking_history' равно 'current' и 'HbA1c_level' превышает 7.\n",
        "Ожидаемый результат: DataFrame, содержащий только строки, в которых 'smoking_history' равно 'current' и 'HbA1c_level' больше 7.\n"
      ],
      "metadata": {
        "id": "sIiShDLLzegO"
      }
    },
    {
      "cell_type": "code",
      "source": [
        "# место для ответа\n"
      ],
      "metadata": {
        "id": "YS2N7IQdzgDh"
      },
      "execution_count": null,
      "outputs": []
    },
    {
      "cell_type": "markdown",
      "source": [
        "3. Выберите строки, где 'diabetes' равно 'Positive' и 'bmi' ниже 25.\n",
        "Ожидаемый результат: DataFrame, содержащий только строки, в которых 'diabetes' равно 'Positive' и 'bmi' меньше 25.\n"
      ],
      "metadata": {
        "id": "bly95tc2zgMR"
      }
    },
    {
      "cell_type": "code",
      "source": [
        "# место для ответа\n"
      ],
      "metadata": {
        "id": "Iuj-JWZHzhdw"
      },
      "execution_count": null,
      "outputs": []
    },
    {
      "cell_type": "markdown",
      "source": [
        "4. Выберите строки, где 'gender' равно 'Female' и 'heart_disease' равно 1.\n",
        "Ожидаемый результат: DataFrame, содержащий только строки, в которых 'gender' равно 'Female' и 'heart_disease' равно 1."
      ],
      "metadata": {
        "id": "fdK9k60Gzhnh"
      }
    },
    {
      "cell_type": "code",
      "source": [
        "# место для ответа\n"
      ],
      "metadata": {
        "id": "rOqrit-Sziix"
      },
      "execution_count": null,
      "outputs": []
    },
    {
      "cell_type": "markdown",
      "source": [
        "5. Выберите строки, где 'diabetes' равно 'Positive' ИЛИ 'hypertension' равно 1.\n",
        "Ожидаемый результат: DataFrame, содержащий только строки, в которых 'diabetes' равно 'Positive' или 'hypertension' равно 1. Это значит, что в выборку попадут строки, удовлетворяющие хотя бы одному из этих условий."
      ],
      "metadata": {
        "id": "OxNddbRkz1Cl"
      }
    },
    {
      "cell_type": "code",
      "source": [
        "# место для ответа\n"
      ],
      "metadata": {
        "id": "luboWGZ4z7Wy"
      },
      "execution_count": null,
      "outputs": []
    },
    {
      "cell_type": "markdown",
      "source": [
        "# Бонусное задание: Комплексные условия выборки данных\n",
        "\n",
        "Если вы готовы пойти дальше, попробуйте сформировать более сложное условие для выборки данных. Это поможет вам лучше понять, как работать с условными операторами в pandas.\n",
        "\n",
        "Выберите строки, где 'age' превышает 40, 'hypertension' равно 1, ИЛИ 'diabetes' равно 'Positive' и 'bmi' ниже 30.\n",
        "Ожидаемый результат: DataFrame, содержащий только строки, которые удовлетворяют указанному условию. Обратите внимание, что из-за использования оператора \"ИЛИ\" строки могут удовлетворять либо первой части условия ('age' больше 40 и 'hypertension' равно 1), либо второй ('diabetes' равно 'Positive' и 'bmi' меньше 30)."
      ],
      "metadata": {
        "id": "5R-epsz00G8C"
      }
    },
    {
      "cell_type": "code",
      "source": [
        "# место для ответа\n"
      ],
      "metadata": {
        "id": "pTC948Ry0KPX"
      },
      "execution_count": null,
      "outputs": []
    },
    {
      "cell_type": "markdown",
      "source": [
        "# Задача 10: Создание нового столбца с помощью .apply()\n",
        "\n",
        "Функция `.apply()` позволяет применять функцию к каждому элементу столбца. Ваша задача - создать новый столбец в DataFrame, используя эту функцию.\n",
        "\n",
        "1. Разработайте функцию, которая преобразует значение в одном из столбцов. Например, вы можете создать функцию, которая классифицирует уровень 'HbA1c_level' как 'high', 'medium' или 'low' в зависимости от его значения.\n",
        "\n",
        "2. Примените эту функцию к соответствующему столбцу с использованием `.apply()` и создайте новый столбец с полученными результатами.\n",
        "\n",
        "3. Проверьте корректность выполнения задачи, отобразив первые несколько строк DataFrame с новым столбцом.\n",
        "\n",
        "Ожидаемый результат: DataFrame с новым столбцом, значения в котором получены с помощью применения функции к существующему столбцу."
      ],
      "metadata": {
        "id": "c34honkJ0lcR"
      }
    },
    {
      "cell_type": "code",
      "source": [
        "# место для ответа\n"
      ],
      "metadata": {
        "id": "FX2Q219H0tAu"
      },
      "execution_count": null,
      "outputs": []
    },
    {
      "cell_type": "markdown",
      "source": [
        "# Задача 11: Визуализация данных с использованием matplotlib.pyplot\n",
        "\n",
        "Визуализация данных является ключевой частью EDA, поскольку она позволяет наглядно представить и анализировать распределения и зависимости. Ваша задача - использовать библиотеку matplotlib.pyplot для визуализации данных."
      ],
      "metadata": {
        "id": "qZfn-0sM2cuB"
      }
    },
    {
      "cell_type": "markdown",
      "source": [
        "Создайте гистограмму для столбца 'age' для анализа распределения возраста пациентов.\n",
        "Ожидаемый результат: Гистограмма, показывающая распределение возраста пациентов."
      ],
      "metadata": {
        "id": "9fwOe4da2hJt"
      }
    },
    {
      "cell_type": "code",
      "source": [
        "# место для ответа\n"
      ],
      "metadata": {
        "id": "GxeLprCm2ix2"
      },
      "execution_count": null,
      "outputs": []
    },
    {
      "cell_type": "markdown",
      "source": [
        "Создайте столбчатую диаграмму (bar plot), которая показывает количество пациентов с положительным и отрицательным статусом диабета.\n",
        "Ожидаемый результат: Столбчатая диаграмма, показывающая количество пациентов с положительным и отрицательным статусом диабета."
      ],
      "metadata": {
        "id": "2XnvDanb2kLM"
      }
    },
    {
      "cell_type": "code",
      "source": [
        "# место для ответа\n"
      ],
      "metadata": {
        "id": "ZuP0Gzv32mV8"
      },
      "execution_count": null,
      "outputs": []
    },
    {
      "cell_type": "markdown",
      "source": [
        "Создайте scatter plot, на котором будет отображена зависимость между 'bmi' и 'blood_glucose_level'.\n",
        "Ожидаемый результат: Scatter plot, показывающий зависимость между индексом массы тела и уровнем глюкозы в крови."
      ],
      "metadata": {
        "id": "ugVDJ8TX2mb8"
      }
    },
    {
      "cell_type": "code",
      "source": [
        "# место для ответа\n"
      ],
      "metadata": {
        "id": "GukdBPes2siD"
      },
      "execution_count": null,
      "outputs": []
    },
    {
      "cell_type": "markdown",
      "source": [
        "Создайте boxplot для столбца 'HbA1c_level' для анализа распределения этого показателя.\n",
        "Ожидаемый результат: Boxplot, показывающий распределение уровня гликированного гемоглобина.\n",
        "\n",
        "При выполнении этой задачи помните о необходимости правильного оформления графиков: наличие заголовка, подписей осей и легенды (если необходимо)."
      ],
      "metadata": {
        "id": "AdntA8Ui2oW2"
      }
    },
    {
      "cell_type": "code",
      "source": [
        "# место для ответа\n"
      ],
      "metadata": {
        "id": "sjiFIJDG2t_J"
      },
      "execution_count": null,
      "outputs": []
    },
    {
      "cell_type": "markdown",
      "source": [
        "# Boxplot для данных, сгруппированных по столбцу 'diabetes'\n",
        "\n",
        "Boxplot - удобный инструмент для анализа распределения данных и их вариабельности в разных группах. Ваша задача - создать boxplot для одного из признаков, сгруппированных по статусу диабета."
      ],
      "metadata": {
        "id": "fmtK9SU92yuZ"
      }
    },
    {
      "cell_type": "markdown",
      "source": [
        "Создайте boxplot для столбца 'bmi', сгруппированного по столбцу 'diabetes'. Это позволит вам сравнить распределение индекса массы тела среди пациентов с положительным и отрицательным статусом диабета.\n",
        "Ожидаемый результат: Boxplot, показывающий распределение индекса массы тела в двух группах: среди пациентов с положительным и отрицательным статусом диабета."
      ],
      "metadata": {
        "id": "CEDkwOAs23VE"
      }
    },
    {
      "cell_type": "code",
      "source": [
        "# место для ответа\n"
      ],
      "metadata": {
        "id": "fDf_BRiz23s4"
      },
      "execution_count": null,
      "outputs": []
    },
    {
      "cell_type": "markdown",
      "source": [
        "Создайте boxplot для столбца 'age', сгруппированного по столбцу 'diabetes'. Это позволит вам сравнить распределение возраста среди пациентов с положительным и отрицательным статусом диабета.\n",
        "Ожидаемый результат: Boxplot, показывающий распределение возраста в двух группах: среди пациентов с положительным и отрицательным статусом диабета.\n",
        "\n",
        "Не забывайте о необходимости правильного оформления графиков: наличие заголовка, подписей осей и легенды."
      ],
      "metadata": {
        "id": "kALGqwSE26QM"
      }
    },
    {
      "cell_type": "code",
      "source": [
        "# место для ответа\n"
      ],
      "metadata": {
        "id": "bA33HS3u26sq"
      },
      "execution_count": null,
      "outputs": []
    },
    {
      "cell_type": "markdown",
      "source": [
        "# Задача 12: Визуализация данных с использованием Seaborn\n",
        "\n",
        "Seaborn - это библиотека визуализации данных в Python, основанная на matplotlib, которая предоставляет высокоуровневый интерфейс для создания привлекательных и информативных графических изображений. Ваша задача - использовать Seaborn для визуализации данных."
      ],
      "metadata": {
        "id": "XfWCy_Sk65Lk"
      }
    },
    {
      "cell_type": "markdown",
      "source": [
        "Создайте в Seaborn гистограмму (distplot) для столбца 'bmi' для анализа его распределения.\n",
        "Ожидаемый результат: Гистограмма, показывающая распределение значений 'bmi'."
      ],
      "metadata": {
        "id": "F0YP_MKF68g8"
      }
    },
    {
      "cell_type": "code",
      "source": [
        "# место для ответа\n"
      ],
      "metadata": {
        "id": "7iOdctmN6834"
      },
      "execution_count": null,
      "outputs": []
    },
    {
      "cell_type": "markdown",
      "source": [
        "Создайте в Seaborn парный график (pairplot) для всего набора данных или его части (например, для определенных столбцов), чтобы увидеть парные взаимосвязи между признаками.\n",
        "Ожидаемый результат: Pairplot, отображающий парные взаимосвязи между выбранными признаками."
      ],
      "metadata": {
        "id": "GSamzKOt68-e"
      }
    },
    {
      "cell_type": "code",
      "source": [
        "# место для ответа\n"
      ],
      "metadata": {
        "id": "I5Ao21m56-hh"
      },
      "execution_count": null,
      "outputs": []
    },
    {
      "cell_type": "markdown",
      "source": [
        "Создайте в Seaborn boxplot (boxplot) для столбца 'HbA1c_level', сгруппированного по столбцу 'diabetes'. Это позволит вам сравнить распределение уровня HbA1c среди пациентов с положительным и отрицательным статусом диабета.\n",
        "Ожидаемый результат: Boxplot, показывающий распределение 'HbA1c_level' в двух группах: среди пациентов с положительным и отрицательным статусом диабета.\n",
        "\n",
        "При выполнении этой задачи помните о необходимости правильного оформления графиков: наличие заголовка, подписей осей и легенды (если необходимо)."
      ],
      "metadata": {
        "id": "Ab01DBM_7Apw"
      }
    },
    {
      "cell_type": "code",
      "source": [
        "# место для ответа\n"
      ],
      "metadata": {
        "id": "pDhxaUfh7CvQ"
      },
      "execution_count": null,
      "outputs": []
    }
  ]
}